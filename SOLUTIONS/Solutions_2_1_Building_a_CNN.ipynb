{
  "cells": [
    {
      "cell_type": "markdown",
      "id": "macro-globe",
      "metadata": {
        "id": "macro-globe"
      },
      "source": [
        "# 2.1 Building our first convolutional neural network"
      ]
    },
    {
      "cell_type": "markdown",
      "id": "accepting-elite",
      "metadata": {
        "id": "accepting-elite"
      },
      "source": [
        "In this example, we follow and build on one of the tutorials on the [homepage of PyTorch]( https://pytorch.org/tutorials/beginner/blitz/cifar10_tutorial.html), and we recommend this resource for delving deeper into the topic.\n",
        "\n",
        "First, we load the libraries that we will need throughout this notebook.\n",
        "\n",
        "<!--\n",
        "1. <a href =\"#Data\">Data</a>\n",
        "2. <a href =\"#Architecture\">Architecture</a>\n",
        "3. <a href =\"#Training\">Training</a>\n",
        "4. <a href =\"#Testing\">Testing</a>\n",
        "5. <a href =\"#Exercises\">Exercises</a>\n",
        "5. <a href =\"#GPUs\">GPUs</a>\n",
        "-->"
      ]
    },
    {
      "cell_type": "code",
      "execution_count": null,
      "id": "blind-fiction",
      "metadata": {
        "id": "blind-fiction"
      },
      "outputs": [],
      "source": [
        "# Needed for image handling\n",
        "import torch\n",
        "import torchvision\n",
        "import torchvision.transforms as transforms\n",
        "# Needed to build CNN\n",
        "import torch.nn as nn\n",
        "import torch.optim as optim\n",
        "# Plotting tools\n",
        "import matplotlib.pyplot as plt\n",
        "import numpy as np\n",
        "import time"
      ]
    },
    {
      "cell_type": "markdown",
      "id": "collect-springfield",
      "metadata": {
        "id": "collect-springfield"
      },
      "source": [
        "## Data\n",
        "\n",
        "In this notebook, we will work with the CIFAR10 dataset, containing thousands of images with 10 different labels (plane, car, bird, cat, deer, dog, frog, horse, ship and truck). Each picture has three channels (RGB) and is 32x32 pixels. Here, we separately load the test and training data, constructing batches with 32 images each."
      ]
    },
    {
      "cell_type": "code",
      "execution_count": null,
      "id": "obvious-document",
      "metadata": {
        "colab": {
          "base_uri": "https://localhost:8080/"
        },
        "id": "obvious-document",
        "outputId": "6c36b744-b4e9-4e3d-ca5f-bf61e4d7f7be"
      },
      "outputs": [
        {
          "output_type": "stream",
          "name": "stdout",
          "text": [
            "Downloading https://www.cs.toronto.edu/~kriz/cifar-10-python.tar.gz to ./data/cifar-10-python.tar.gz\n"
          ]
        },
        {
          "output_type": "stream",
          "name": "stderr",
          "text": [
            "100%|██████████| 170M/170M [00:03<00:00, 48.9MB/s]\n"
          ]
        },
        {
          "output_type": "stream",
          "name": "stdout",
          "text": [
            "Extracting ./data/cifar-10-python.tar.gz to ./data\n",
            "Files already downloaded and verified\n"
          ]
        }
      ],
      "source": [
        "transform = transforms.Compose([transforms.ToTensor(), transforms.Normalize((0.5, 0.5, 0.5), (0.5, 0.5, 0.5))])\n",
        "\n",
        "batch_size = 32\n",
        "\n",
        "trainset = torchvision.datasets.CIFAR10(root='./data', train=True, download=True, transform=transform)\n",
        "testset = torchvision.datasets.CIFAR10(root='./data', train=False, download=True, transform=transform)\n",
        "\n",
        "trainloader = torch.utils.data.DataLoader(trainset, batch_size=batch_size, shuffle=True, num_workers=2)\n",
        "testloader = torch.utils.data.DataLoader(testset, batch_size=batch_size, shuffle=False, num_workers=2)"
      ]
    },
    {
      "cell_type": "markdown",
      "id": "operating-junior",
      "metadata": {
        "id": "operating-junior"
      },
      "source": [
        "Let's have a look at one of the pictures in the data set."
      ]
    },
    {
      "cell_type": "code",
      "execution_count": null,
      "id": "running-bhutan",
      "metadata": {
        "colab": {
          "base_uri": "https://localhost:8080/",
          "height": 430
        },
        "id": "running-bhutan",
        "outputId": "00584f6f-dd40-411a-9284-cb7c6bf79132"
      },
      "outputs": [
        {
          "output_type": "display_data",
          "data": {
            "text/plain": [
              "<Figure size 640x480 with 1 Axes>"
            ],
            "image/png": "[encoded data removed]"
          },
          "metadata": {}
        }
      ],
      "source": [
        "plt.imshow(trainset.data[60])\n",
        "plt.show()"
      ]
    },
    {
      "cell_type": "markdown",
      "id": "favorite-restaurant",
      "metadata": {
        "id": "favorite-restaurant"
      },
      "source": [
        "It's clearly a low-resolution picture of a car. The labels in the data are simply the categories 0-9. Let's write labels that are easier for huma's to relate to."
      ]
    },
    {
      "cell_type": "code",
      "execution_count": null,
      "id": "adequate-nickname",
      "metadata": {
        "id": "adequate-nickname"
      },
      "outputs": [],
      "source": [
        "classes = ('plane', 'car', 'bird', 'cat', 'deer', 'dog', 'frog', 'horse', 'ship', 'truck')"
      ]
    },
    {
      "cell_type": "markdown",
      "id": "mobile-machine",
      "metadata": {
        "id": "mobile-machine"
      },
      "source": [
        "## Architecture\n",
        "\n",
        "To create a convolutional neural network (CNN), we create a new class, here called CNN. We then initialise the class, inheriting from the parent class (here nn.Module) and defining the necessary components of our architecture. Having initialised the class, we put the components together to define how a forward pass will be executed."
      ]
    },
    {
      "cell_type": "code",
      "execution_count": null,
      "id": "floral-settle",
      "metadata": {
        "id": "floral-settle"
      },
      "outputs": [],
      "source": [
        "# How many output channels do we want from the first convolutional layer?\n",
        "\n",
        "output_channels_1 = 6\n",
        "\n",
        "class CNN(nn.Module):\n",
        "    def __init__(self):\n",
        "        super().__init__() # Inherit from parent class\n",
        "        # Define layers\n",
        "        # First we have a convolutional layer with 3 input channels and output_channels_1 output channels\n",
        "        self.conv1 = nn.Conv2d(3, output_channels_1, kernel_size=(3,3), stride=1, padding=1)\n",
        "        self.act1 = nn.ReLU()\n",
        "        self.pool1 = nn.MaxPool2d(2, 2) # Pooling layer\n",
        "        self.conv2 = nn.Conv2d(output_channels_1, output_channels_1, kernel_size=(3,3), stride=1, padding=1)\n",
        "        self.flat = nn.Flatten()\n",
        "        self.fc1 = nn.Linear(output_channels_1*8*8, 120)\n",
        "        self.fc2 = nn.Linear(120, 84)\n",
        "        self.fc3 = nn.Linear(84, 10)\n",
        "\n",
        "    def forward(self, x):\n",
        "        # Build CNN\n",
        "        # input 3x32x32 and output 6x32x32\n",
        "        x = self.act1(self.conv1(x))\n",
        "        # input 6x32x32 and output 6x16x16\n",
        "        x = self.pool1(x)\n",
        "        # input 6x16x16 and output 6x16x16\n",
        "        x = self.act1(self.conv2(x))\n",
        "        # input 6x16x16 and output 6x8x8\n",
        "        x = self.pool1(x)\n",
        "        # We now flatten the feature maps to feed them into the neural network\n",
        "        x = self.flat(x)\n",
        "        x = self.act1(self.fc1(x))\n",
        "        x = self.act1(self.fc2(x))\n",
        "        x = self.fc3(x)\n",
        "        return x"
      ]
    },
    {
      "cell_type": "markdown",
      "id": "communist-insurance",
      "metadata": {
        "id": "communist-insurance"
      },
      "source": [
        "We can now construct an instance of this class that we can train and apply for predictions."
      ]
    },
    {
      "cell_type": "code",
      "execution_count": null,
      "id": "enclosed-closure",
      "metadata": {
        "id": "enclosed-closure"
      },
      "outputs": [],
      "source": [
        "cnn = CNN()\n",
        "\n",
        "# Exercise 9\n",
        "device = torch.device(\"cuda\" if torch.cuda.is_available() else \"cpu\")\n",
        "cnn = cnn.to(device)"
      ]
    },
    {
      "cell_type": "markdown",
      "id": "durable-straight",
      "metadata": {
        "id": "durable-straight"
      },
      "source": [
        "But before we turn to training the network, let's have a look at what the different layers do to the images. Let's start with the first convolution layer."
      ]
    },
    {
      "cell_type": "code",
      "execution_count": null,
      "id": "asian-orbit",
      "metadata": {
        "colab": {
          "base_uri": "https://localhost:8080/",
          "height": 579
        },
        "id": "asian-orbit",
        "outputId": "dbd175d8-8b6f-49ba-f91e-bb11f1312f75"
      },
      "outputs": [
        {
          "output_type": "stream",
          "name": "stderr",
          "text": [
            "<ipython-input-7-f938bca62cab>:2: UserWarning: Creating a tensor from a list of numpy.ndarrays is extremely slow. Please consider converting the list to a single numpy.ndarray with numpy.array() before converting to a tensor. (Triggered internally at ../torch/csrc/utils/tensor_new.cpp:278.)\n",
            "  X = torch.tensor([trainset.data[60]], dtype=torch.float32).permute(0,3,1,2).to(device) # Exercise 9; to(device) added\n"
          ]
        },
        {
          "output_type": "display_data",
          "data": {
            "text/plain": [
              "<Figure size 1200x600 with 6 Axes>"
            ],
            "image/png": "[encoded data removed]"
          },
          "metadata": {}
        }
      ],
      "source": [
        "# First, we convert the image of the car into batch with one image (because the network expects batches)\n",
        "X = torch.tensor([trainset.data[60]], dtype=torch.float32).permute(0,3,1,2).to(device) # Exercise 9; to(device) added\n",
        "# Then we send it through conv1 to see what conv1 does.\n",
        "with torch.no_grad(): # We don't actually need to compute gradients\n",
        "    X = cnn.conv1(X)\n",
        "\n",
        "# Plotting\n",
        "cls = int(np.ceil(output_channels_1/2))\n",
        "fig, axs = plt.subplots(2, cls, sharex=True, sharey=True, figsize=(12,6))\n",
        "for i in range(0, output_channels_1):\n",
        "    row, col = i//cls, i%cls\n",
        "    axs[row][col].imshow(X[0][i].cpu().numpy())\n",
        "plt.show()"
      ]
    },
    {
      "cell_type": "markdown",
      "id": "annoying-campbell",
      "metadata": {
        "id": "annoying-campbell"
      },
      "source": [
        "## Training\n",
        "\n",
        "Having defined the architecture of the CNN, we set out to train it. To do so, we first need to decide what a good match to data implies (i.e., what the loss function is) and how to minimise the loss. Here, we settle for the cross entropy and stochastic gradient descent."
      ]
    },
    {
      "cell_type": "code",
      "execution_count": null,
      "id": "afraid-colonial",
      "metadata": {
        "id": "afraid-colonial"
      },
      "outputs": [],
      "source": [
        "loss_func = nn.CrossEntropyLoss()\n",
        "optimizer = optim.SGD(cnn.parameters(), lr=1e-3, momentum=0.9)"
      ]
    },
    {
      "cell_type": "markdown",
      "id": "exclusive-monthly",
      "metadata": {
        "id": "exclusive-monthly"
      },
      "source": [
        "We are now ready to train the network. We do so through successive forward and backpropagation, optimising the weights. For simplicity, let's settle for training during 5 epochs, although fixing the number of epochs in this manner is rather crude and not to be recommended. Running this cell might take a few minutes, which is also why we only have 5 epochs: 5 epochs will not be enough for convergence, *so you shouldn't do this if you were to build a CNN,* but since we are only trying to understand how things work in this notebook, it's good enough for our purposes (see also exercises 4 and 8). Below, we will see how we can speed up computations with GPUs."
      ]
    },
    {
      "cell_type": "code",
      "execution_count": null,
      "id": "wired-decline",
      "metadata": {
        "id": "wired-decline",
        "colab": {
          "base_uri": "https://localhost:8080/",
          "height": 656
        },
        "outputId": "fb0a7fbc-131b-4a8a-8056-df1e593733f8"
      },
      "outputs": [
        {
          "output_type": "stream",
          "name": "stdout",
          "text": [
            "epoch 1, loss: 2.178\n",
            "epoch 2, loss: 1.812\n",
            "epoch 3, loss: 1.593\n",
            "epoch 4, loss: 1.480\n",
            "epoch 5, loss: 1.407\n",
            "Training time 124.49381923675537 seconds\n"
          ]
        },
        {
          "output_type": "display_data",
          "data": {
            "text/plain": [
              "<Figure size 600x600 with 1 Axes>"
            ],
            "image/png": "[encoded data removed]"
          },
          "metadata": {}
        }
      ],
      "source": [
        "n_epochs = 5\n",
        "tloss = []\n",
        "start = time.time()\n",
        "batches = np.ceil(len(trainloader.dataset)/batch_size)\n",
        "\n",
        "for epoch in range(n_epochs):\n",
        "\n",
        "    training_loss = 0.0\n",
        "    for  i, data in enumerate(trainloader, 0):\n",
        "        # get the inputs; data is a list of [inputs, labels]\n",
        "        inputs, labels = data\n",
        "        inputs = inputs.to(device) # Exercise 9\n",
        "        labels = labels.to(device) # Exercise 9\n",
        "\n",
        "        y_pred = cnn(inputs) # Go through batches of training data\n",
        "        loss = loss_func(y_pred, labels) # Compare output to truth\n",
        "\n",
        "        optimizer.zero_grad()\n",
        "\n",
        "        # backward + optimize\n",
        "        loss.backward()\n",
        "        optimizer.step()\n",
        "\n",
        "        training_loss += loss.item()\n",
        "        if i % batches == batches-1:    # print every 2000 mini-batches\n",
        "            print(f'epoch {epoch + 1}, loss: {training_loss / batches:.3f}')\n",
        "            tloss.extend([training_loss / batches])\n",
        "            training_loss = 0.0\n",
        "\n",
        "print(\"Training time {} seconds\".format(time.time()-start))\n",
        "\n",
        "plt.figure(figsize=(6,6))\n",
        "plt.plot(tloss)\n",
        "plt.xlabel(\"Epochs\",fontsize=14)\n",
        "plt.ylabel(\"Loss\",fontsize=14)\n",
        "plt.xticks(fontsize=14)\n",
        "plt.yticks(fontsize=14)\n",
        "plt.show()"
      ]
    },
    {
      "cell_type": "markdown",
      "id": "vocal-coordinate",
      "metadata": {
        "id": "vocal-coordinate"
      },
      "source": [
        "Before we continue, let's store the trained network."
      ]
    },
    {
      "cell_type": "code",
      "execution_count": null,
      "id": "insured-cannon",
      "metadata": {
        "id": "insured-cannon"
      },
      "outputs": [],
      "source": [
        "# On your own computer, you would do the following:\n",
        "PATH = './cifar10_cnn.pth'\n",
        "torch.save(cnn.state_dict(), PATH)\n",
        "# That also works in google colab... but where did the file end up? And how can you store it on your Google cloud?"
      ]
    },
    {
      "cell_type": "markdown",
      "id": "transsexual-pavilion",
      "metadata": {
        "id": "transsexual-pavilion"
      },
      "source": [
        "## Testing\n",
        "\n",
        "We have successfully trained the network, but is it any good? Let's apply the network to the test data that we previously withheld to answer this question. For this purpose, let's start out by comparing some of the predicted labels with the ground truth."
      ]
    },
    {
      "cell_type": "code",
      "execution_count": null,
      "id": "configured-crowd",
      "metadata": {
        "id": "configured-crowd",
        "colab": {
          "base_uri": "https://localhost:8080/"
        },
        "outputId": "d0cf6486-3062-42ca-c2a5-2869751e9e70"
      },
      "outputs": [
        {
          "output_type": "stream",
          "name": "stdout",
          "text": [
            "Predicted:  cat   ship  ship  ship  cat   frog  car   deer  deer  car  \n",
            "Truth:  cat   ship  ship  plane frog  frog  car   frog  cat   car  \n"
          ]
        }
      ],
      "source": [
        "dataiter = iter(testloader)\n",
        "images, labels = next(dataiter)\n",
        "images = images.to(device) # Exercise 9\n",
        "labels = labels.to(device) # Exercise 9\n",
        "\n",
        "outputs = cnn(images)\n",
        "_, predicted = torch.max(outputs, 1)\n",
        "\n",
        "print('Predicted: ', ' '.join(f'{classes[predicted[j]]:5s}' for j in range(10)))\n",
        "print('Truth: ', ' '.join(f'{classes[labels[j]]:5s}' for j in range(10)))"
      ]
    },
    {
      "cell_type": "markdown",
      "id": "seven-david",
      "metadata": {
        "id": "seven-david"
      },
      "source": [
        "That doesn't look too bad. How does the model perform on the test set as a whole?"
      ]
    },
    {
      "cell_type": "code",
      "execution_count": null,
      "id": "strong-soundtrack",
      "metadata": {
        "id": "strong-soundtrack",
        "colab": {
          "base_uri": "https://localhost:8080/"
        },
        "outputId": "4de75ec7-4d17-48a3-9bb1-63e7b6242b32"
      },
      "outputs": [
        {
          "output_type": "stream",
          "name": "stdout",
          "text": [
            "Accuracy of the network on test images: 49 %\n"
          ]
        }
      ],
      "source": [
        "correct = 0\n",
        "total = 0\n",
        "for data in testloader:\n",
        "    images, labels = data\n",
        "    # Move inputs and labels to the same device as the model\n",
        "    images = images.to(device) # Exercise 9\n",
        "    labels = labels.to(device) # Exercise 9\n",
        "\n",
        "    # calculate outputs by running images through the network\n",
        "    outputs = cnn(images)\n",
        "    # the class with the highest energy is what we choose as prediction\n",
        "    _, predicted = torch.max(outputs.data, 1)\n",
        "    total += labels.size(0)\n",
        "    correct += (predicted == labels).sum().item()\n",
        "\n",
        "print(f'Accuracy of the network on test images: {100 * correct // total} %')"
      ]
    },
    {
      "cell_type": "markdown",
      "id": "aging-amplifier",
      "metadata": {
        "id": "aging-amplifier"
      },
      "source": [
        "If we were to guess randomly, the best we could do would be to get 10 per cent right with 10 categories. So, the model isn't doing that bad. But could we have done better? Should we have trained for longer than 20 epochs? What about overfitting? Or underfitting? We will answer these questions next week."
      ]
    },
    {
      "cell_type": "markdown",
      "id": "severe-birthday",
      "metadata": {
        "id": "severe-birthday"
      },
      "source": [
        "## Exercises"
      ]
    },
    {
      "cell_type": "markdown",
      "id": "accepted-stroke",
      "metadata": {
        "id": "accepted-stroke"
      },
      "source": [
        "**Exercise 1**: Discuss in the group what the different layers in the CNN (e.g., [Conv2d](https://pytorch.org/docs/stable/generated/torch.nn.Conv2d.html)). Explain the dimensions of the input and output of each layer.\n",
        "\n",
        "**Exercise 2**: In the network above, one type of activation function is included. Which one? What other types of [activation functions](https://pytorch.org/docs/stable/nn.html#non-linear-activations-weighted-sum-nonlinearity\n",
        ") are there?\n",
        "\n",
        "\n",
        "**Exercise 3**: Plot the output of the first pooling layer in the cell below. Rather than passing the images to this layer as done above (architecture, cell [7]), you will have to pass the output from conv1. Why?"
      ]
    },
    {
      "cell_type": "code",
      "execution_count": null,
      "id": "stable-doctrine",
      "metadata": {
        "id": "stable-doctrine",
        "colab": {
          "base_uri": "https://localhost:8080/",
          "height": 522
        },
        "outputId": "4674841d-763e-4660-bad1-05d32593d4a6"
      },
      "outputs": [
        {
          "output_type": "display_data",
          "data": {
            "text/plain": [
              "<Figure size 1200x600 with 6 Axes>"
            ],
            "image/png": "[encoded data removed]"
          },
          "metadata": {}
        }
      ],
      "source": [
        "# First, we convert the image of the car into batch with one image (because the network expects batches)\n",
        "X = trainset[60][0] # Note that this image is transformed (normalised. trainset.data[60] wouldn't be)\n",
        "X = X.unsqueeze(0)\n",
        "X = X.to(device) # Exercise 9\n",
        "# Then we send it through conv1 to see what conv1 does.\n",
        "with torch.no_grad(): # We don't actually need to compute gradients\n",
        "    X = cnn.conv1(X)\n",
        "    X = cnn.pool1(cnn.act1(X))\n",
        "\n",
        "# Plotting\n",
        "cls = int(np.ceil(output_channels_1/2))\n",
        "fig, axs = plt.subplots(2, cls, sharex=True, sharey=True, figsize=(12,6))\n",
        "for i in range(0, output_channels_1):\n",
        "    row, col = i//cls, i%cls\n",
        "    axs[row][col].imshow(X[0][i].cpu().numpy())\n",
        "plt.show()"
      ]
    },
    {
      "cell_type": "markdown",
      "id": "spare-holly",
      "metadata": {
        "id": "spare-holly"
      },
      "source": [
        "**Exercise 4**: Explain what happens in the code in cell [9] (training). What does the plot show? Does it look like expected? What happens if you increase the number of epochs? See what happens to the accuracy of the network in cell [12] if you rerun the training with 20 epochs in cell [9]."
      ]
    },
    {
      "cell_type": "markdown",
      "id": "divided-circulation",
      "metadata": {
        "id": "divided-circulation"
      },
      "source": [
        "**Exercise 5**: Copy the neural network into the cell below and change the architecture of the neural network introducing, e.g., dropout."
      ]
    },
    {
      "cell_type": "code",
      "execution_count": null,
      "id": "humanitarian-spain",
      "metadata": {
        "id": "humanitarian-spain"
      },
      "outputs": [],
      "source": [
        "import torch.nn as nn\n",
        "\n",
        "class CNN_v2(nn.Module):\n",
        "    def __init__(self, dropout_prob=0.5):\n",
        "        super().__init__()  # Inherit from parent class\n",
        "\n",
        "        # Define layers\n",
        "        # Convolutional layer with 3 input channels and `output_channels_1` output channels\n",
        "        self.conv1 = nn.Conv2d(3, output_channels_1, kernel_size=(3, 3), stride=1, padding=1)\n",
        "        self.act1 = nn.ReLU()\n",
        "        self.pool1 = nn.MaxPool2d(2, 2)  # Pooling layer\n",
        "\n",
        "        # Second convolutional layer\n",
        "        self.conv2 = nn.Conv2d(output_channels_1, output_channels_1, kernel_size=(3, 3), stride=1, padding=1)\n",
        "        self.pool2 = nn.MaxPool2d(2, 2)  # Second pooling layer\n",
        "\n",
        "        # Fully connected layers\n",
        "        self.flat = nn.Flatten()\n",
        "        self.fc1 = nn.Linear(output_channels_1 * 8 * 8, 120)  # Input size depends on pooling\n",
        "        self.dropout1 = nn.Dropout(p=dropout_prob)  # First dropout layer\n",
        "\n",
        "        self.fc2 = nn.Linear(120, 84)\n",
        "        self.dropout2 = nn.Dropout(p=dropout_prob)  # Second dropout layer\n",
        "\n",
        "        self.fc3 = nn.Linear(84, 10)  # Final output layer\n",
        "\n",
        "    def forward(self, x):\n",
        "        # Forward pass\n",
        "        x = self.act1(self.conv1(x))  # Convolution + activation\n",
        "        x = self.pool1(x)            # Pooling\n",
        "        x = self.act1(self.conv2(x)) # Convolution + activation\n",
        "        x = self.pool2(x)            # Pooling\n",
        "\n",
        "        # Flatten before passing to fully connected layers\n",
        "        x = self.flat(x)\n",
        "\n",
        "        # Fully connected layers with activation and dropout\n",
        "        x = self.act1(self.fc1(x))\n",
        "        x = self.dropout1(x)  # Apply dropout\n",
        "        x = self.act1(self.fc2(x))\n",
        "        x = self.dropout2(x)  # Apply dropout\n",
        "        x = self.fc3(x)       # Output layer\n",
        "\n",
        "        return x\n",
        "\n",
        "# NB: Dropout is a regularisation technique primarily used during training. During evaluation or testing, dropout should be disabled.\n",
        "# In PyTorch, this is achieved by setting the model to evaluation mode using model.eval(). Conversely, during training, ensure the model is\n",
        "# set to training mode using model.train(). Forgetting to toggle these modes can lead to unreliable results."
      ]
    },
    {
      "cell_type": "markdown",
      "id": "worldwide-range",
      "metadata": {
        "id": "worldwide-range"
      },
      "source": [
        "**Exercise 6**: Discuss the choice of the loss function. What alternatives are there?\n",
        "\n",
        "**Exercise 7**: What happens if you change the dimensions of the output of the first convolutional layer? Or the batch size? Or the size of the training set? Try to do so by changing the correct lines of code above and rerunning the notebook. You might want to run your tests across different computers to save time."
      ]
    },
    {
      "cell_type": "code",
      "execution_count": null,
      "id": "parental-implementation",
      "metadata": {
        "id": "parental-implementation"
      },
      "outputs": [],
      "source": []
    },
    {
      "cell_type": "markdown",
      "id": "VgdstG4rqm4q",
      "metadata": {
        "id": "VgdstG4rqm4q"
      },
      "source": [
        "*NB: Changing hyperparameters, such as the output dimensions of the first convolutional layer, batch size, and training set size, can affect the model's performance. Indeed, the values chosen in this notebook might not be the best for the task and hand, and further experimentation and systematic tuning can in many cases be necessary to achieve optimal results. On the other hand, the degree of impact of changing these hyperparameters is often not dramatic unless the changes are substantial. Small variations in these parameters should not significantly alter performance, which is reassuring, as it indicates that the neural networks are not overly sensitive to these choices.*"
      ]
    },
    {
      "cell_type": "markdown",
      "id": "divine-ground",
      "metadata": {
        "id": "divine-ground"
      },
      "source": [
        "**Exercise 8**: Having trained and tested your neural network, you get a yet unseen image and want to predict a label. What would you need to do with the image (transforms) to pass it to the network? (Hint: Also, note that the network expects batches). Since we are merely interested in learning how to make such predictions, let's just pretend that we had never seen one of the images from the test set before and wanted to make a prediction. Finish the code below."
      ]
    },
    {
      "cell_type": "code",
      "execution_count": null,
      "id": "posted-story",
      "metadata": {
        "id": "posted-story",
        "colab": {
          "base_uri": "https://localhost:8080/",
          "height": 499
        },
        "outputId": "0cd94f2b-d74c-48a2-b71a-7ed8aaf45e77"
      },
      "outputs": [
        {
          "output_type": "stream",
          "name": "stdout",
          "text": [
            "Predicted class: ship\n",
            "tensor([3.7959e-02, 3.1943e-01, 9.8863e-05, 1.8972e-05, 7.5104e-05, 6.6325e-06,\n",
            "        6.8151e-06, 2.6977e-05, 5.8838e-01, 5.4000e-02])\n",
            "Second most likely class index: 6 being a frog\n"
          ]
        },
        {
          "output_type": "display_data",
          "data": {
            "text/plain": [
              "<Figure size 640x480 with 1 Axes>"
            ],
            "image/png": "[encoded data removed]"
          },
          "metadata": {}
        }
      ],
      "source": [
        "# Load and preprocess the new image\n",
        "dummy = testset.data[1]\n",
        "plt.imshow(dummy)\n",
        "\n",
        "# Apply the transformation for the new image\n",
        "# Remember to make the image into a batch. Check out transform(...).unsqueeze(0)\n",
        "\n",
        "input_image = transform(dummy).unsqueeze(0)  # Apply transformation and add batch dimension\n",
        "\n",
        "# We add one more line to move to GPUs\n",
        "input_image = input_image.to(device) # Exercise 9\n",
        "\n",
        "# Use evaluation mode (i.e. not training mode. This is important, e.g., when having dropout)\n",
        "cnn.eval()\n",
        "\n",
        "# Make and get prediction\n",
        "with torch.no_grad():\n",
        "    outputs = cnn(input_image)\n",
        "\n",
        "_, predicted = outputs.max(1)\n",
        "\n",
        "# Print the predicted class\n",
        "\n",
        "print(f\"Predicted class: {classes[predicted.item()]}\")  # Print the predicted class index\n",
        "\n",
        "# You can also get the probability of each class. What was the second most likely label?\n",
        "probabilities = torch.nn.functional.softmax(outputs, dim=1)[0]\n",
        "\n",
        "print(probabilities)\n",
        "\n",
        "# Get the index of the second most likely label\n",
        "second_most_likely = probabilities.argsort()[1].item()\n",
        "print(f\"Second most likely class index: {second_most_likely} being a {classes[second_most_likely]}\")"
      ]
    },
    {
      "cell_type": "markdown",
      "id": "corresponding-curve",
      "metadata": {
        "id": "corresponding-curve"
      },
      "source": [
        "## GPUs"
      ]
    },
    {
      "cell_type": "markdown",
      "id": "chubby-horizontal",
      "metadata": {
        "id": "chubby-horizontal"
      },
      "source": [
        "Running your code on GPUs rather than CPUs can significantly speed up the computations when training a neural network. Depending on your department, you will have different GPU resources available for high-performance computing (HPC). It is beyond this course to dive into HPC and batch scripts. Instead, we note that GPUs are available from other sources. Rather conveniently, Google Colab actually offers GPUs. To access these, select \"Runtime\" from the menu bar on the top. Then select \"Change runtime type\". Change from CPUs to GPUs. You can check the GPUs you have available with. See also [Google Colab's Guide](https://colab.research.google.com/notebooks/gpu.ipynb)."
      ]
    },
    {
      "cell_type": "code",
      "execution_count": null,
      "id": "conceptual-parameter",
      "metadata": {
        "id": "conceptual-parameter",
        "colab": {
          "base_uri": "https://localhost:8080/"
        },
        "outputId": "712c9596-828e-4e1f-8412-72f727c806d6"
      },
      "outputs": [
        {
          "output_type": "stream",
          "name": "stdout",
          "text": [
            "/bin/bash: line 1: nvidia-smi: command not found\n"
          ]
        }
      ],
      "source": [
        "!nvidia-smi"
      ]
    },
    {
      "cell_type": "markdown",
      "id": "relevant-thanksgiving",
      "metadata": {
        "id": "relevant-thanksgiving"
      },
      "source": [
        "To actually run the code using GPUs, you need to add some additional lines of code to move the corresponding objects (the model and input tensors) to the GPUs, the device, defined as:\n",
        "\n",
        "- device = torch.device(\"cuda\" if torch.cuda.is_available() else \"cpu\")\n",
        "\n",
        "This line of code checks whether a GPU with CUDA (Compute Unified Device Architecture) is available and sets device accordingly. We then move, e.g., the model to the device (either GPU or CPU) by running\n",
        "\n",
        "- model = model.to(device)\n",
        "\n",
        "The same is true for any PyTorch tensor\n",
        "\n",
        "- tensor = tensor.to(device)\n",
        "\n",
        "To get an idea of how exactly to change the code, you can compare notebook 2.1 with notebook 2.2.\n",
        "\n",
        "**NB:** You cannot transform a tensor to numpy if it is on GPUs (see, e.g. [here](https://www.learnpytorch.io/00_pytorch_fundamentals/))\n",
        "\n",
        "**Exercise 9**: Modify the present notebook (2.1) based on your comparison to notebook 2.2 and run the code on GPUs."
      ]
    },
    {
      "cell_type": "code",
      "execution_count": null,
      "id": "intellectual-mediterranean",
      "metadata": {
        "id": "intellectual-mediterranean"
      },
      "outputs": [],
      "source": [
        "# Changes are added accordingly to the code above, i.e., it can run on GPUs or CPUs. Look for the comment \"Exercise 9\"."
      ]
    }
  ],
  "metadata": {
    "colab": {
      "provenance": []
    },
    "kernelspec": {
      "display_name": "Python 3",
      "name": "python3"
    },
    "language_info": {
      "codemirror_mode": {
        "name": "ipython",
        "version": 3
      },
      "file_extension": ".py",
      "mimetype": "text/x-python",
      "name": "python",
      "nbconvert_exporter": "python",
      "pygments_lexer": "ipython3",
      "version": "3.6.9"
    }
  },
  "nbformat": 4,
  "nbformat_minor": 5
}