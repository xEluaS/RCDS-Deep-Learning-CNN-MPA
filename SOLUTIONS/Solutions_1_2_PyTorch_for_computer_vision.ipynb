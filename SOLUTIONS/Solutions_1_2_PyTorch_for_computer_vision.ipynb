{
  "cells": [
    {
      "cell_type": "markdown",
      "id": "acceptable-access",
      "metadata": {
        "id": "acceptable-access"
      },
      "source": [
        "# 1.2 PyTorch for Computer Vision"
      ]
    },
    {
      "cell_type": "markdown",
      "id": "funny-landing",
      "metadata": {
        "id": "funny-landing"
      },
      "source": [
        "In this note, we will address some of the basic commands that you will need from PyTorch in general and in computer vision in particular.\n",
        "\n",
        "<!---\n",
        "- [Basic PyTorch commands](#Basic-PyTorch-commands)\n",
        "- [Computer vision data sets](#Computer-vision-data-sets)\n",
        "- [Transforms](#Transforms)\n",
        "- [Exercises](#Exercises)\n",
        "-->\n",
        "\n",
        "First, we import the required libraries. These should all be available on Google Colab."
      ]
    },
    {
      "cell_type": "code",
      "execution_count": null,
      "id": "pleased-naples",
      "metadata": {
        "id": "pleased-naples"
      },
      "outputs": [],
      "source": [
        "import torch # PyTorch\n",
        "import torchvision # Computer vision\n",
        "# Data sets and transforms\n",
        "from torchvision import datasets\n",
        "import torchvision.transforms as transforms\n",
        "from torch.utils.data import DataLoader\n",
        "# Other libraries\n",
        "import matplotlib.pyplot as plt\n",
        "import numpy as np"
      ]
    },
    {
      "cell_type": "markdown",
      "id": "nominated-authority",
      "metadata": {
        "id": "nominated-authority"
      },
      "source": [
        "You can, e.g., check your PyTorch"
      ]
    },
    {
      "cell_type": "code",
      "execution_count": null,
      "id": "configured-slope",
      "metadata": {
        "id": "configured-slope",
        "outputId": "3d70ddb9-9244-4724-ac1d-224df5b2b412",
        "colab": {
          "base_uri": "https://localhost:8080/",
          "height": 36
        }
      },
      "outputs": [
        {
          "output_type": "execute_result",
          "data": {
            "text/plain": [
              "'2.5.1+cu121'"
            ],
            "application/vnd.google.colaboratory.intrinsic+json": {
              "type": "string"
            }
          },
          "metadata": {},
          "execution_count": 2
        }
      ],
      "source": [
        "torch.__version__"
      ]
    },
    {
      "cell_type": "markdown",
      "id": "crucial-trinity",
      "metadata": {
        "id": "crucial-trinity"
      },
      "source": [
        "## Basic PyTorch commands"
      ]
    },
    {
      "cell_type": "markdown",
      "id": "looking-covering",
      "metadata": {
        "id": "looking-covering"
      },
      "source": [
        "PyTorch has its own objects: PyTorch tensors. All data will have to be put in this format."
      ]
    },
    {
      "cell_type": "code",
      "execution_count": null,
      "id": "desirable-equipment",
      "metadata": {
        "id": "desirable-equipment"
      },
      "outputs": [],
      "source": [
        "scalar = torch.tensor(1)\n",
        "vector = torch.tensor([1, 2])"
      ]
    },
    {
      "cell_type": "markdown",
      "id": "regional-injury",
      "metadata": {
        "id": "regional-injury"
      },
      "source": [
        "If you already have a tensor object, you can print different properties."
      ]
    },
    {
      "cell_type": "code",
      "execution_count": null,
      "id": "usual-tumor",
      "metadata": {
        "id": "usual-tumor",
        "outputId": "1bc23857-57a3-493b-a498-91182e11b5e4",
        "colab": {
          "base_uri": "https://localhost:8080/"
        }
      },
      "outputs": [
        {
          "output_type": "stream",
          "name": "stdout",
          "text": [
            "1 torch.Size([2]) torch.int64\n"
          ]
        }
      ],
      "source": [
        "print(vector.ndim, vector.shape,vector.dtype)"
      ]
    },
    {
      "cell_type": "markdown",
      "id": "theoretical-simon",
      "metadata": {
        "id": "theoretical-simon"
      },
      "source": [
        "Many of the commands (such as the method creating vectors with ones in each entry) mirror the corresponding commands in numpy."
      ]
    },
    {
      "cell_type": "code",
      "execution_count": null,
      "id": "fitted-monthly",
      "metadata": {
        "id": "fitted-monthly",
        "outputId": "906c29a3-1662-4c91-9e48-57f15a9be796",
        "colab": {
          "base_uri": "https://localhost:8080/"
        }
      },
      "outputs": [
        {
          "output_type": "stream",
          "name": "stdout",
          "text": [
            "tensor([[0.],\n",
            "        [0.],\n",
            "        [0.]])\n",
            "tensor([[1.],\n",
            "        [1.],\n",
            "        [1.]])\n"
          ]
        }
      ],
      "source": [
        "t0 = torch.zeros(size=(3,1))\n",
        "print(t0)\n",
        "t1 = torch.ones(size=(3,1))\n",
        "print(t1)"
      ]
    },
    {
      "cell_type": "markdown",
      "id": "final-chick",
      "metadata": {
        "id": "final-chick"
      },
      "source": [
        "Just like in numpy you can, for instance, easily perform element-wise multiplication, multiply a tensor with a scalar or determine the index of the entry with the maximum or minimum value. But not everything is the same."
      ]
    },
    {
      "cell_type": "code",
      "execution_count": null,
      "id": "regulated-climate",
      "metadata": {
        "id": "regulated-climate",
        "outputId": "270b6e97-4a67-4bf7-fad6-39e3dd394d3d",
        "colab": {
          "base_uri": "https://localhost:8080/"
        }
      },
      "outputs": [
        {
          "output_type": "stream",
          "name": "stdout",
          "text": [
            "tensor([10, 20])\n",
            "tensor([1, 4])\n",
            "tensor(1)\n",
            "tensor(0)\n"
          ]
        }
      ],
      "source": [
        "print(10*vector)\n",
        "print(vector*vector)\n",
        "print(vector.argmax())\n",
        "print(vector.argmin())"
      ]
    },
    {
      "cell_type": "markdown",
      "id": "dominant-artwork",
      "metadata": {
        "id": "dominant-artwork"
      },
      "source": [
        "When creating so-called batches (see Lecture 1) of data in later notebooks, we will sometimes need to be able to add a dimension to a tensor. We thus keep the content of the data but add an empty dimension along the dimension dim."
      ]
    },
    {
      "cell_type": "code",
      "execution_count": null,
      "id": "weighted-assignment",
      "metadata": {
        "id": "weighted-assignment",
        "outputId": "afd93056-ef6f-44b9-a0e1-849a334dde06",
        "colab": {
          "base_uri": "https://localhost:8080/"
        }
      },
      "outputs": [
        {
          "output_type": "execute_result",
          "data": {
            "text/plain": [
              "tensor([[1, 2]])"
            ]
          },
          "metadata": {},
          "execution_count": 7
        }
      ],
      "source": [
        "torch.unsqueeze(vector,dim=0)"
      ]
    },
    {
      "cell_type": "markdown",
      "id": "sought-retention",
      "metadata": {
        "id": "sought-retention"
      },
      "source": [
        "You can also turn PyTorch tensors into numpy objects"
      ]
    },
    {
      "cell_type": "code",
      "execution_count": null,
      "id": "missing-federation",
      "metadata": {
        "id": "missing-federation",
        "outputId": "acfc9245-ede5-44bd-903a-9ae1ea1f4fd5",
        "colab": {
          "base_uri": "https://localhost:8080/"
        }
      },
      "outputs": [
        {
          "output_type": "execute_result",
          "data": {
            "text/plain": [
              "array([1, 2])"
            ]
          },
          "metadata": {},
          "execution_count": 8
        }
      ],
      "source": [
        "vector.numpy()"
      ]
    },
    {
      "cell_type": "markdown",
      "id": "sunrise-punishment",
      "metadata": {
        "id": "sunrise-punishment"
      },
      "source": [
        "Or numpy objects into tensors."
      ]
    },
    {
      "cell_type": "code",
      "execution_count": null,
      "id": "patient-problem",
      "metadata": {
        "id": "patient-problem",
        "outputId": "ef22341e-d5d2-46e3-d173-12c907187380",
        "colab": {
          "base_uri": "https://localhost:8080/"
        }
      },
      "outputs": [
        {
          "output_type": "execute_result",
          "data": {
            "text/plain": [
              "tensor([1, 2])"
            ]
          },
          "metadata": {},
          "execution_count": 9
        }
      ],
      "source": [
        "array = np.arange(1,3)\n",
        "torch.from_numpy(array)"
      ]
    },
    {
      "cell_type": "markdown",
      "id": "intellectual-christianity",
      "metadata": {
        "id": "intellectual-christianity"
      },
      "source": [
        "For more basic PyTorch commands, see the exercises below."
      ]
    },
    {
      "cell_type": "markdown",
      "id": "ceramic-tenant",
      "metadata": {
        "id": "ceramic-tenant"
      },
      "source": [
        "## Computer vision data sets"
      ]
    },
    {
      "cell_type": "markdown",
      "id": "tough-heritage",
      "metadata": {
        "id": "tough-heritage"
      },
      "source": [
        "In this course, we will dive into Deep Learning for computer vision, i.e., we will be working with image data. Torchvision provides a long list of datasets that are commonly used for this purpose."
      ]
    },
    {
      "cell_type": "code",
      "execution_count": null,
      "id": "improving-australian",
      "metadata": {
        "id": "improving-australian",
        "outputId": "a19b1b6d-dfe9-4dde-eb8b-d7dc62b1cbbe",
        "colab": {
          "base_uri": "https://localhost:8080/"
        }
      },
      "outputs": [
        {
          "output_type": "stream",
          "name": "stdout",
          "text": [
            "('LSUN', 'LSUNClass', 'ImageFolder', 'DatasetFolder', 'FakeData', 'CocoCaptions', 'CocoDetection', 'CIFAR10', 'CIFAR100', 'EMNIST', 'FashionMNIST', 'QMNIST', 'MNIST', 'KMNIST', 'StanfordCars', 'STL10', 'SUN397', 'SVHN', 'PhotoTour', 'SEMEION', 'Omniglot', 'SBU', 'Flickr8k', 'Flickr30k', 'Flowers102', 'VOCSegmentation', 'VOCDetection', 'Cityscapes', 'ImageNet', 'Caltech101', 'Caltech256', 'CelebA', 'WIDERFace', 'SBDataset', 'VisionDataset', 'USPS', 'Kinetics', 'HMDB51', 'UCF101', 'Places365', 'Kitti', 'INaturalist', 'LFWPeople', 'LFWPairs', 'KittiFlow', 'Sintel', 'FlyingChairs', 'FlyingThings3D', 'HD1K', 'Food101', 'DTD', 'FER2013', 'GTSRB', 'CLEVRClassification', 'OxfordIIITPet', 'PCAM', 'Country211', 'FGVCAircraft', 'EuroSAT', 'RenderedSST2', 'Kitti2012Stereo', 'Kitti2015Stereo', 'CarlaStereo', 'Middlebury2014Stereo', 'CREStereo', 'FallingThingsStereo', 'SceneFlowStereo', 'SintelStereo', 'InStereo2k', 'ETH3DStereo', 'wrap_dataset_for_transforms_v2', 'Imagenette')\n"
          ]
        }
      ],
      "source": [
        "# Available datasets\n",
        "print(datasets.__all__)"
      ]
    },
    {
      "cell_type": "markdown",
      "id": "southern-world",
      "metadata": {
        "id": "southern-world"
      },
      "source": [
        "To dowload and import the training set from the MNIST data set, we use the command"
      ]
    },
    {
      "cell_type": "code",
      "execution_count": null,
      "id": "lonely-aviation",
      "metadata": {
        "id": "lonely-aviation"
      },
      "outputs": [],
      "source": [
        "trainset_mnist_0 = datasets.MNIST(root='./data', train=True, download=True)"
      ]
    },
    {
      "cell_type": "markdown",
      "id": "clinical-skating",
      "metadata": {
        "id": "clinical-skating"
      },
      "source": [
        "Note that not all datasets listed above can be easily downloaded with one line of code.\n",
        "\n",
        "We can plot individual images from this data set using matplotlib. Each image is a PyTorch tensor object."
      ]
    },
    {
      "cell_type": "code",
      "execution_count": null,
      "id": "insured-steps",
      "metadata": {
        "id": "insured-steps",
        "outputId": "8bea6175-fefc-4c9e-94ec-b794d06ed74f",
        "colab": {
          "base_uri": "https://localhost:8080/",
          "height": 324
        }
      },
      "outputs": [
        {
          "output_type": "stream",
          "name": "stdout",
          "text": [
            "<class 'torch.Tensor'>\n",
            "<class 'torch.Tensor'>\n",
            "<class 'torch.Tensor'>\n",
            "<class 'torch.Tensor'>\n",
            "<class 'torch.Tensor'>\n"
          ]
        },
        {
          "output_type": "display_data",
          "data": {
            "text/plain": [
              "<Figure size 1500x300 with 5 Axes>"
            ],
            "image/png": "[encoded data removed]"
          },
          "metadata": {}
        }
      ],
      "source": [
        "fig, axes = plt.subplots(1, 5, figsize=(15, 3))\n",
        "for i in range(5):\n",
        "    img = trainset_mnist_0.data[i]\n",
        "    print(type(img))\n",
        "    axes[i].imshow(img, cmap='gray')\n",
        "    axes[i].axis('off')"
      ]
    },
    {
      "cell_type": "markdown",
      "id": "qualified-roman",
      "metadata": {
        "id": "qualified-roman"
      },
      "source": [
        "Let's try a different dataset."
      ]
    },
    {
      "cell_type": "code",
      "execution_count": null,
      "id": "representative-spice",
      "metadata": {
        "id": "representative-spice",
        "outputId": "11c0d5ed-8854-4ce7-8c4f-a8170b925b81",
        "colab": {
          "base_uri": "https://localhost:8080/"
        }
      },
      "outputs": [
        {
          "output_type": "stream",
          "name": "stdout",
          "text": [
            "Files already downloaded and verified\n"
          ]
        }
      ],
      "source": [
        "trainset_cifar10_0 = datasets.CIFAR10(root='./data', train=True, download=True)"
      ]
    },
    {
      "cell_type": "code",
      "execution_count": null,
      "id": "arabic-government",
      "metadata": {
        "id": "arabic-government",
        "outputId": "dd1be4b8-9dae-4f9f-b628-429fe9f26252",
        "colab": {
          "base_uri": "https://localhost:8080/",
          "height": 237
        }
      },
      "outputs": [
        {
          "output_type": "display_data",
          "data": {
            "text/plain": [
              "<Figure size 1500x300 with 5 Axes>"
            ],
            "image/png": "[encoded data removed]"
          },
          "metadata": {}
        }
      ],
      "source": [
        "fig, axes = plt.subplots(1, 5, figsize=(15, 3))\n",
        "for i in range(5):\n",
        "    img = trainset_cifar10_0.data[i]\n",
        "    axes[i].imshow(img)\n",
        "    axes[i].axis('off')"
      ]
    },
    {
      "cell_type": "markdown",
      "id": "paperback-connecticut",
      "metadata": {
        "id": "paperback-connecticut"
      },
      "source": [
        "## Transforms"
      ]
    },
    {
      "cell_type": "markdown",
      "id": "harmful-pharmacology",
      "metadata": {
        "id": "harmful-pharmacology"
      },
      "source": [
        "Before we can pass the data to our Deep Learning model, we will often have to transform it to ensure that it has the correct format. Maybe the images are too small or too large compared to the images on which we have trained our model. It is also common practice to normalise the images before passing them to the Deep Learning model, as this approach is beneficial for convergence, stability during training and the generalisation of the network.\n",
        "\n",
        "Let's define a transform for normalisation."
      ]
    },
    {
      "cell_type": "code",
      "execution_count": null,
      "id": "extraordinary-negative",
      "metadata": {
        "id": "extraordinary-negative"
      },
      "outputs": [],
      "source": [
        "# MNIST is black and white. So, we only need one color channel. Other data sets have three\n",
        "means = (0.5)\n",
        "stds = (0.5)\n",
        "\n",
        "# Define the data transform including normalization\n",
        "transform_mnist_0 = transforms.Compose([\n",
        "    transforms.ToTensor(),  # convert to PyTorch tensor\n",
        "    transforms.Normalize(mean=means, std=stds)  # normalize images\n",
        "])\n",
        "\n",
        "# In contrast, CIFAR10 provides pictures with three channels (RGB).\n",
        "\n",
        "means10 = (0.5,0.5,0.5)\n",
        "stds10 = (0.5,0.5,0.5)\n",
        "\n",
        "# Define the data transform including normalization\n",
        "transform_cifar10_0 = transforms.Compose([\n",
        "    transforms.ToTensor(),  # Converts the image to a PyTorch tensor\n",
        "    transforms.Normalize(means10, stds10),  # Normalize to a range of -1 to 1 for three channels\n",
        "])"
      ]
    },
    {
      "cell_type": "markdown",
      "id": "centered-cliff",
      "metadata": {
        "id": "centered-cliff"
      },
      "source": [
        "If we had defined the transform before we loaded the data, we could have applied the transform to the data right away. However, we can still do so retrospectively."
      ]
    },
    {
      "cell_type": "code",
      "execution_count": null,
      "id": "reliable-fashion",
      "metadata": {
        "id": "reliable-fashion"
      },
      "outputs": [],
      "source": [
        "# Apply the transform to the dataset\n",
        "trainset_cifar10_0.transform = transform_cifar10_0"
      ]
    },
    {
      "cell_type": "markdown",
      "id": "thorough-nitrogen",
      "metadata": {
        "id": "thorough-nitrogen"
      },
      "source": [
        "We can divide the entire dataset into smaller batches, shuffle it and provide an iterable interface for retrieving batches during the training process using the DataLoader class."
      ]
    },
    {
      "cell_type": "code",
      "execution_count": null,
      "id": "variable-scoop",
      "metadata": {
        "id": "variable-scoop"
      },
      "outputs": [],
      "source": [
        "train_loader_cifar10 = DataLoader(trainset_cifar10_0, batch_size=32, shuffle=True)"
      ]
    },
    {
      "cell_type": "markdown",
      "id": "enclosed-interview",
      "metadata": {
        "id": "enclosed-interview"
      },
      "source": [
        "If you plot the image, you can now see that the colours are a bit off because we normalised the image."
      ]
    },
    {
      "cell_type": "code",
      "execution_count": null,
      "id": "common-drawing",
      "metadata": {
        "id": "common-drawing",
        "outputId": "71943861-1aae-4f8f-ff77-e08d47027f67",
        "colab": {
          "base_uri": "https://localhost:8080/",
          "height": 324
        }
      },
      "outputs": [
        {
          "output_type": "stream",
          "name": "stderr",
          "text": [
            "WARNING:matplotlib.image:Clipping input data to the valid range for imshow with RGB data ([0..1] for floats or [0..255] for integers).\n",
            "WARNING:matplotlib.image:Clipping input data to the valid range for imshow with RGB data ([0..1] for floats or [0..255] for integers).\n",
            "WARNING:matplotlib.image:Clipping input data to the valid range for imshow with RGB data ([0..1] for floats or [0..255] for integers).\n",
            "WARNING:matplotlib.image:Clipping input data to the valid range for imshow with RGB data ([0..1] for floats or [0..255] for integers).\n",
            "WARNING:matplotlib.image:Clipping input data to the valid range for imshow with RGB data ([0..1] for floats or [0..255] for integers).\n"
          ]
        },
        {
          "output_type": "display_data",
          "data": {
            "text/plain": [
              "<Figure size 1500x300 with 5 Axes>"
            ],
            "image/png": "[encoded data removed]"
          },
          "metadata": {}
        }
      ],
      "source": [
        "# Get the first batch from the data loader\n",
        "dataiter = iter(train_loader_cifar10)\n",
        "images, labels = next(dataiter)\n",
        "\n",
        "fig, axes = plt.subplots(1, 5, figsize=(15, 3))\n",
        "for i in range(5):\n",
        "    img = images[i].permute(1, 2, 0)\n",
        "    axes[i].imshow(img)\n",
        "    axes[i].axis('off')"
      ]
    },
    {
      "cell_type": "markdown",
      "id": "waiting-portugal",
      "metadata": {
        "id": "waiting-portugal"
      },
      "source": [
        "We can also use transforms for image augmentation, i.e., we scale, translate or rotate the images to create new images. By doing so, we reduce overfitting and introduce scale and orientation invariance."
      ]
    },
    {
      "cell_type": "code",
      "execution_count": null,
      "id": "greek-reading",
      "metadata": {
        "id": "greek-reading"
      },
      "outputs": [],
      "source": [
        "transform_mnist_1 = transforms.Compose([\n",
        "    transforms.RandomHorizontalFlip(), # Randomflip\n",
        "    transforms.RandomRotation(degrees=(-90, 90)),  # Random rotation between -90 and 90 degrees\n",
        "    transforms.ToTensor(),  # convert to PyTorch tensor\n",
        "    transforms.Normalize(mean=means, std=stds)  # normalize images\n",
        "])\n",
        "\n",
        "# Apply the transform to the dataset\n",
        "trainset_mnist_0.transform = transform_mnist_1\n",
        "train_loader_mnist = DataLoader(trainset_mnist_0, batch_size=32, shuffle=True)"
      ]
    },
    {
      "cell_type": "code",
      "execution_count": null,
      "id": "therapeutic-istanbul",
      "metadata": {
        "id": "therapeutic-istanbul",
        "outputId": "6bdd4b9b-ca95-4505-ff3a-3338ed18e8fb",
        "colab": {
          "base_uri": "https://localhost:8080/",
          "height": 237
        }
      },
      "outputs": [
        {
          "output_type": "display_data",
          "data": {
            "text/plain": [
              "<Figure size 1500x300 with 5 Axes>"
            ],
            "image/png": "[encoded data removed]"
          },
          "metadata": {}
        }
      ],
      "source": [
        "# Get the first batch from the data loader\n",
        "dataiter = iter(train_loader_mnist)\n",
        "images, labels = next(dataiter)\n",
        "\n",
        "fig, axes = plt.subplots(1, 5, figsize=(15, 3))\n",
        "for i in range(5):\n",
        "    img = images[i].permute(1, 2, 0)\n",
        "    axes[i].imshow(img, cmap=\"gray\")\n",
        "    axes[i].axis('off')"
      ]
    },
    {
      "cell_type": "markdown",
      "id": "committed-effort",
      "metadata": {
        "id": "committed-effort"
      },
      "source": [
        "## Exercises"
      ]
    },
    {
      "cell_type": "markdown",
      "id": "incredible-honey",
      "metadata": {
        "id": "incredible-honey"
      },
      "source": [
        "**Exercise 1**: Find out how to transpose, stack, reshape and permute tensors."
      ]
    },
    {
      "cell_type": "code",
      "execution_count": null,
      "id": "dangerous-module",
      "metadata": {
        "id": "dangerous-module",
        "colab": {
          "base_uri": "https://localhost:8080/"
        },
        "outputId": "febfc5b4-e86b-4677-c3c1-b1ae91f90108"
      },
      "outputs": [
        {
          "output_type": "stream",
          "name": "stdout",
          "text": [
            "tensor([[-0.9793,  2.4250, -1.6507,  2.2428],\n",
            "        [ 2.1536,  0.5142, -1.2526, -0.2990]])\n",
            "tensor([[-0.9793,  2.1536],\n",
            "        [ 2.4250,  0.5142],\n",
            "        [-1.6507, -1.2526],\n",
            "        [ 2.2428, -0.2990]])\n",
            "torch.Size([2, 2, 4])\n",
            "tensor([[-1.5885, -0.7190, -0.0734, -0.2208]])\n",
            "torch.Size([3, 2])\n"
          ]
        }
      ],
      "source": [
        "x = torch.randn(2, 4)\n",
        "x_t = x.transpose(0, 1)  # Transposes the first and second dimensions\n",
        "print(x)\n",
        "print(x_t)\n",
        "\n",
        "x1 = torch.randn(2, 4)\n",
        "x2 = torch.randn(2, 4)\n",
        "stacked = torch.stack((x1, x2), dim=0)  # Creates a new dimension at dim 0\n",
        "print(stacked.shape)  # Resulting shape will be (2, 2, 4)\n",
        "\n",
        "x = torch.randn(2, 2)\n",
        "reshaped = x.reshape(1, 4)  # Reshapes to 2 rows and 8 columns\n",
        "print(reshaped)\n",
        "\n",
        "x = torch.randn(2, 3)\n",
        "permuted = x.permute(1, 0)  # Reorders dimensions (2, 3) to (3, 2)\n",
        "print(permuted.shape)  # Resulting shape will be (3, 2)"
      ]
    },
    {
      "cell_type": "markdown",
      "id": "dominant-cambodia",
      "metadata": {
        "id": "dominant-cambodia"
      },
      "source": [
        "**Exercise 2**: Construct a matrix as a PyTorch tensor. Perform matrix multiplication (cf. torch.matmul())"
      ]
    },
    {
      "cell_type": "code",
      "execution_count": null,
      "id": "guilty-encounter",
      "metadata": {
        "id": "guilty-encounter",
        "colab": {
          "base_uri": "https://localhost:8080/"
        },
        "outputId": "7912089f-8136-4502-a3ee-a5531bfbcf0e"
      },
      "outputs": [
        {
          "output_type": "stream",
          "name": "stdout",
          "text": [
            "Matrix A:\n",
            " tensor([[1., 2., 3.],\n",
            "        [4., 5., 6.]])\n",
            "Matrix B:\n",
            " tensor([[ 7.,  8.],\n",
            "        [ 9., 10.],\n",
            "        [11., 12.]])\n",
            "Result of A x B:\n",
            " tensor([[ 58.,  64.],\n",
            "        [139., 154.]])\n"
          ]
        }
      ],
      "source": [
        "# Define two 2x3 and 3x2 matrices (tensors)\n",
        "A = torch.tensor([[1.0, 2.0, 3.0], [4.0, 5.0, 6.0]])  # 2x3 matrix\n",
        "B = torch.tensor([[7.0, 8.0], [9.0, 10.0], [11.0, 12.0]])  # 3x2 matrix\n",
        "\n",
        "print(\"Matrix A:\\n\", A)\n",
        "print(\"Matrix B:\\n\", B)\n",
        "\n",
        "# Perform matrix multiplication (result will be 2x2)\n",
        "C = torch.matmul(A, B)\n",
        "\n",
        "print(\"Result of A x B:\\n\", C)"
      ]
    },
    {
      "cell_type": "markdown",
      "id": "sonic-amateur",
      "metadata": {
        "id": "sonic-amateur"
      },
      "source": [
        "**Exercise 3**: Just like you can unsqueeze a tensor, you can squeeze it. Find out how and what it means."
      ]
    },
    {
      "cell_type": "code",
      "execution_count": null,
      "id": "republican-adjustment",
      "metadata": {
        "id": "republican-adjustment",
        "colab": {
          "base_uri": "https://localhost:8080/"
        },
        "outputId": "4fc4cc0c-aa18-49f9-a9c0-757d95929d3c"
      },
      "outputs": [
        {
          "output_type": "stream",
          "name": "stdout",
          "text": [
            "Original tensor shape: torch.Size([1, 2, 1, 4])\n",
            "Shape after squeezing dim 0: torch.Size([2, 1, 4])\n",
            "Shape after squeezing dim 2: torch.Size([1, 2, 4])\n"
          ]
        }
      ],
      "source": [
        "# Unsqueezing allows us to add extra dimensions (of size 1). This is needed, e.g., when the neural network expects a batch.\n",
        "# Squeezing then allows you remove dimensions of size 1. Note that this means that there is a limit to how much you can squeeze.\n",
        "\n",
        "# Create another tensor\n",
        "x = torch.randn(1, 2, 1, 4)\n",
        "print(\"Original tensor shape:\", x.shape)\n",
        "\n",
        "# Squeeze only the first dimension (0) if it's 1\n",
        "squeezed_dim0 = x.squeeze(0)\n",
        "print(\"Shape after squeezing dim 0:\", squeezed_dim0.shape)\n",
        "\n",
        "# Squeeze only the third dimension (2) if it's 1\n",
        "squeezed_dim2 = x.squeeze(2)\n",
        "print(\"Shape after squeezing dim 2:\", squeezed_dim2.shape)"
      ]
    },
    {
      "cell_type": "markdown",
      "id": "southern-breath",
      "metadata": {
        "id": "southern-breath"
      },
      "source": [
        "**Exercise 4**: Load and plot examples from another data set from torchvision."
      ]
    },
    {
      "cell_type": "code",
      "execution_count": null,
      "id": "superior-colleague",
      "metadata": {
        "id": "superior-colleague"
      },
      "outputs": [],
      "source": [
        "# This exercise is thought for exploration."
      ]
    },
    {
      "cell_type": "markdown",
      "id": "contrary-worker",
      "metadata": {
        "id": "contrary-worker"
      },
      "source": [
        "**Exercise 5**: In cell [18] above, where we plot the CIFAR10 images after normalisation, the colours are off. Correct for this by denormalising the picture before plotting."
      ]
    },
    {
      "cell_type": "code",
      "execution_count": null,
      "id": "split-charge",
      "metadata": {
        "id": "split-charge",
        "colab": {
          "base_uri": "https://localhost:8080/",
          "height": 576
        },
        "outputId": "5f0a8ca0-0756-421d-ffbe-2df94a97051e"
      },
      "outputs": [
        {
          "output_type": "stream",
          "name": "stderr",
          "text": [
            "WARNING:matplotlib.image:Clipping input data to the valid range for imshow with RGB data ([0..1] for floats or [0..255] for integers).\n",
            "WARNING:matplotlib.image:Clipping input data to the valid range for imshow with RGB data ([0..1] for floats or [0..255] for integers).\n",
            "WARNING:matplotlib.image:Clipping input data to the valid range for imshow with RGB data ([0..1] for floats or [0..255] for integers).\n",
            "WARNING:matplotlib.image:Clipping input data to the valid range for imshow with RGB data ([0..1] for floats or [0..255] for integers).\n",
            "WARNING:matplotlib.image:Clipping input data to the valid range for imshow with RGB data ([0..1] for floats or [0..255] for integers).\n"
          ]
        },
        {
          "output_type": "display_data",
          "data": {
            "text/plain": [
              "<Figure size 1500x600 with 10 Axes>"
            ],
            "image/png": "[encoded data removed]"
          },
          "metadata": {}
        }
      ],
      "source": [
        "# Function to denormalize an image\n",
        "def denormalize(image):\n",
        "    # Reverse the normalization: image * std + mean\n",
        "    for i in range(3):  # assuming 3 color channels\n",
        "        image[i] = image[i] * stds10[i] + means10[i]\n",
        "    return image\n",
        "\n",
        "# Get the first batch from the data loader\n",
        "dataiter = iter(train_loader_cifar10)\n",
        "images, labels = next(dataiter)\n",
        "\n",
        "fig, axes = plt.subplots(2, 5, figsize=(15, 6))\n",
        "for i in range(5):\n",
        "    img = images[i].permute(1, 2, 0)\n",
        "    axes[0,i].imshow(img)\n",
        "    img2 = denormalize(images[i].clone()).permute(1, 2, 0)\n",
        "    axes[1,i].imshow(img2)\n",
        "    axes[0,i].axis('off')\n",
        "    axes[1,i].axis('off')"
      ]
    },
    {
      "cell_type": "markdown",
      "id": "talented-blogger",
      "metadata": {
        "id": "talented-blogger"
      },
      "source": [
        "**Exercise 6**: Above, we discuss a few transforms for data augmentation. What other transforms are there for this purpose? Write the corresponding code below."
      ]
    },
    {
      "cell_type": "code",
      "execution_count": null,
      "id": "surgical-heath",
      "metadata": {
        "id": "surgical-heath"
      },
      "outputs": [],
      "source": [
        "# This exercise is thought for exploration."
      ]
    }
  ],
  "metadata": {
    "kernelspec": {
      "display_name": "Python 3",
      "language": "python",
      "name": "python3"
    },
    "language_info": {
      "codemirror_mode": {
        "name": "ipython",
        "version": 3
      },
      "file_extension": ".py",
      "mimetype": "text/x-python",
      "name": "python",
      "nbconvert_exporter": "python",
      "pygments_lexer": "ipython3",
      "version": "3.6.9"
    },
    "colab": {
      "provenance": []
    }
  },
  "nbformat": 4,
  "nbformat_minor": 5
}