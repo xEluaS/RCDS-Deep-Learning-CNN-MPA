{
  "cells": [
    {
      "cell_type": "markdown",
      "id": "received-exercise",
      "metadata": {
        "id": "received-exercise"
      },
      "source": [
        "# 1.1 Neural network basics\n",
        "\n",
        "In this notebook, we construct a basic neural network in PyTorch. We attempt to only provide a bare-bone example for clarity. For another such example, please see [PyTorch's homepage](https://pytorch.org/tutorials/beginner/basics/buildmodel_tutorial.html)\n",
        "\n",
        "<!--\n",
        "- [Building the network](#Building-the-network)\n",
        "- [Training the network](#Training-the-network)\n",
        "- [Testing the network](#Testing-the-network)\n",
        "- [Exercises](#Exercises)\n",
        "-->\n",
        "\n",
        "First, we import the libraries and load the data. You will explore this further in notebook 1.2."
      ]
    },
    {
      "cell_type": "code",
      "execution_count": 1,
      "id": "otherwise-supervisor",
      "metadata": {
        "id": "otherwise-supervisor",
        "outputId": "2d640c08-2bf2-4874-fe7d-ced5864019a4",
        "colab": {
          "base_uri": "https://localhost:8080/"
        }
      },
      "outputs": [
        {
          "output_type": "stream",
          "name": "stderr",
          "text": [
            "100%|██████████| 9.91M/9.91M [00:00<00:00, 96.7MB/s]\n",
            "100%|██████████| 28.9k/28.9k [00:00<00:00, 22.4MB/s]\n",
            "100%|██████████| 1.65M/1.65M [00:00<00:00, 111MB/s]\n",
            "100%|██████████| 4.54k/4.54k [00:00<00:00, 6.03MB/s]\n"
          ]
        }
      ],
      "source": [
        "import torch\n",
        "import torch.nn as nn\n",
        "import torch.optim as optim\n",
        "import torchvision\n",
        "import torchvision.transforms as transforms\n",
        "\n",
        "# Load the MNIST dataset\n",
        "transform = transforms.Compose([transforms.ToTensor(), transforms.Normalize((0.5,), (0.5,))])\n",
        "\n",
        "# We load a training set\n",
        "train_dataset = torchvision.datasets.MNIST(root='./data', train=True, transform=transform, download=True)\n",
        "\n",
        "# And withhold some data for testing\n",
        "test_dataset = torchvision.datasets.MNIST(root='./data', train=False, transform=transform, download=True)\n",
        "\n",
        "train_loader = torch.utils.data.DataLoader(dataset=train_dataset, batch_size=32, shuffle=True)\n",
        "test_loader = torch.utils.data.DataLoader(dataset=test_dataset, batch_size=32, shuffle=False)"
      ]
    },
    {
      "cell_type": "markdown",
      "source": [
        "Data loaders are used in machine learning to efficiently load data from a dataset in batches, often performing shuffling and parallel loading.\n",
        "\n",
        "Using mini-batches is a standard machine learning technique that balances computational efficiency and training stability. It avoids the noisy updates and poor hardware utilization of processing single samples, while also bypassing the prohibitive memory costs and slow progress of using the entire dataset for each update. This compromise generally leads to faster convergence and better model performance by leveraging parallel processing and providing reasonably stable gradient estimates."
      ],
      "metadata": {
        "id": "RLe80Kmxl2rs"
      },
      "id": "RLe80Kmxl2rs"
    },
    {
      "cell_type": "code",
      "source": [
        "import matplotlib.pyplot as plt\n",
        "# prompt: Visualize some data\n",
        "\n",
        "fig, axes = plt.subplots(1, 5, figsize=(15, 3))\n",
        "for i in range(5):\n",
        "    img = train_dataset.data[i]\n",
        "    print(type(img))\n",
        "    axes[i].imshow(img, cmap='gray')\n",
        "    axes[i].axis('off')\n",
        "    axes[i].set_title(train_dataset.targets[i].item())\n",
        "plt.show()"
      ],
      "metadata": {
        "id": "2UNi-5ouktrB",
        "outputId": "4e0e24a5-b403-446b-dc9a-8755bdfc65e9",
        "colab": {
          "base_uri": "https://localhost:8080/",
          "height": 291
        }
      },
      "id": "2UNi-5ouktrB",
      "execution_count": 5,
      "outputs": [
        {
          "output_type": "stream",
          "name": "stdout",
          "text": [
            "<class 'torch.Tensor'>\n",
            "<class 'torch.Tensor'>\n",
            "<class 'torch.Tensor'>\n",
            "<class 'torch.Tensor'>\n",
            "<class 'torch.Tensor'>\n"
          ]
        },
        {
          "output_type": "display_data",
          "data": {
            "text/plain": [
              "<Figure size 1500x300 with 5 Axes>"
            ],
            "image/png": "[encoded data removed]"
          },
          "metadata": {}
        }
      ]
    },
    {
      "cell_type": "markdown",
      "id": "detailed-official",
      "metadata": {
        "id": "detailed-official"
      },
      "source": [
        "## Building the network\n",
        "\n",
        "Below, we construct a fully connected neural network. Here, we will limit ourselves to a single hidden layer, i.e., it's a shallow rather than deep neural network. To construct a neural network in PyTorch, we define a class that inherits from the nn.Module class.\n",
        "\n",
        "The class contains two functions:\n",
        "\n",
        "1) init: Defines all the objects we will need.\n",
        "\n",
        "2) forward: puts all of these objects together, defining the network architecture. Basically, x starts out as your input tensor and is transformed step by step as it passes through each layer of the network. In this notebook, we consider MNIST images as our input tensors. Each image contains 28x28 pixels. The fully connected layers of the neural network, however, can only deal with one-dimensional feature vectors. So, we flatten the tensor, x, which is then passed on to the first fully connected layer, fc1. After the first fully connected layer, a Rectified Linear Unit (ReLU) activation function is applied element-wise to the tensor. The tensor is then passed through the second fully connected layer, fc2. After passing through the second fully connected layer, the transformed x is returned. The final tensor (x) represents the output of the neural network, which can be used for tasks like classification (you can rename x if you don't want to call the input and the output the same or if you want to distinguish between feature extraction and the final classification)."
      ]
    },
    {
      "cell_type": "code",
      "execution_count": 6,
      "id": "individual-asthma",
      "metadata": {
        "id": "individual-asthma"
      },
      "outputs": [],
      "source": [
        "# Define a simple neural network\n",
        "class SimpleNet(nn.Module):\n",
        "    def __init__(self):\n",
        "        super().__init__()\n",
        "        self.fc1 = nn.Linear(28 * 28, 128)\n",
        "        self.relu = nn.ReLU()\n",
        "        self.fc2 = nn.Linear(128, 10)\n",
        "\n",
        "    def forward(self, x):\n",
        "        x = x.flatten(start_dim=1)\n",
        "        x = self.fc1(x)\n",
        "        x = self.relu(x)\n",
        "        x = self.fc2(x)\n",
        "        return x"
      ]
    },
    {
      "cell_type": "markdown",
      "id": "coral-parts",
      "metadata": {
        "id": "coral-parts"
      },
      "source": [
        "You can now create an instance of the class."
      ]
    },
    {
      "cell_type": "code",
      "execution_count": 7,
      "id": "banner-works",
      "metadata": {
        "id": "banner-works"
      },
      "outputs": [],
      "source": [
        "model = SimpleNet()"
      ]
    },
    {
      "cell_type": "markdown",
      "id": "representative-choice",
      "metadata": {
        "id": "representative-choice"
      },
      "source": [
        "## Training the network\n",
        "\n",
        "We now want to train the weights of the neural network. For this purpose, we first need to define what a good fit to data entails."
      ]
    },
    {
      "cell_type": "code",
      "execution_count": 8,
      "id": "stupid-tyler",
      "metadata": {
        "id": "stupid-tyler"
      },
      "outputs": [],
      "source": [
        "criterion = nn.CrossEntropyLoss()"
      ]
    },
    {
      "cell_type": "markdown",
      "id": "honey-distribution",
      "metadata": {
        "id": "honey-distribution"
      },
      "source": [
        "Secondly, we need to decide how we want to optimise the network."
      ]
    },
    {
      "cell_type": "code",
      "execution_count": 9,
      "id": "promising-benchmark",
      "metadata": {
        "id": "promising-benchmark"
      },
      "outputs": [],
      "source": [
        "optimizer = optim.Adam(model.parameters(), lr=0.01)"
      ]
    },
    {
      "cell_type": "markdown",
      "id": "juvenile-string",
      "metadata": {
        "id": "juvenile-string"
      },
      "source": [
        "Now, we are ready to train the neural network. Let's train for 5 epochs.\n",
        "An epoch in machine learning means one complete pass of the training dataset through the algorithm.\n",
        "\n",
        "Note that fixing the number of epochs in this manner is not a good choice and will lead to under- or overfitting. But in this notebook, we merely want to understand the basic concepts behind training a neural network.\n",
        "\n",
        "In each epoch, for each batch from the training set, we\n",
        "\n",
        "1) clear the accumulated gradients of the model parameters (accumulated during backpropagation),\n",
        "\n",
        "2) perform a forward run (i.e. we predict labels for the batch of images),\n",
        "\n",
        "3) compute the loss for these predictions,\n",
        "\n",
        "3) perform backpropagation,\n",
        "\n",
        "5) and use this to optimise the weights and biases of our model."
      ]
    },
    {
      "cell_type": "code",
      "execution_count": null,
      "id": "structural-interpretation",
      "metadata": {
        "id": "structural-interpretation",
        "outputId": "c12e564e-7f63-4bd1-bc63-9f8f574e693e",
        "colab": {
          "base_uri": "https://localhost:8080/"
        }
      },
      "outputs": [
        {
          "output_type": "stream",
          "name": "stdout",
          "text": [
            "Epoch [1/5], Loss: 0.43971810603539147\n",
            "Epoch [2/5], Loss: 0.33904846321145693\n",
            "Epoch [3/5], Loss: 0.3246502250281473\n",
            "Epoch [4/5], Loss: 0.3054352718902752\n",
            "Epoch [5/5], Loss: 0.3056525920684139\n"
          ]
        }
      ],
      "source": [
        "num_epochs = 5\n",
        "\n",
        "# Training loop\n",
        "model.train()  # Set the model to training mode\n",
        "for epoch in range(num_epochs):\n",
        "    running_loss = 0.0\n",
        "\n",
        "    for images, labels in train_loader:\n",
        "        optimizer.zero_grad() # clear gradients\n",
        "        outputs = model(images) # forward run\n",
        "        loss = criterion(outputs, labels) # compare to ground truth\n",
        "        loss.backward() # back propagation\n",
        "        optimizer.step() # update weights and biases\n",
        "\n",
        "        running_loss += loss.item()\n",
        "\n",
        "    # Print average loss for the epoch\n",
        "    average_loss = running_loss / len(train_loader)\n",
        "    print(f'Epoch [{epoch+1}/{num_epochs}], Loss: {average_loss}')"
      ]
    },
    {
      "cell_type": "markdown",
      "id": "junior-senegal",
      "metadata": {
        "id": "junior-senegal"
      },
      "source": [
        "## Testing the network"
      ]
    },
    {
      "cell_type": "code",
      "source": [
        "import random\n",
        "model.eval()  # Set the model to evaluation mode (important!)\n",
        "\n",
        "correct = 0\n",
        "total = 0\n",
        "example_images = [] #\n",
        "max_examples_to_show = 10\n",
        "i=0\n",
        "# --- Evaluation Loop ---\n",
        "with torch.no_grad():  # Disable gradient calculations for efficiency\n",
        "    for images, labels in test_loader:\n",
        "        # Get model predictions\n",
        "        outputs = model(images)\n",
        "\n",
        "        # Find the predicted class with the highest probability\n",
        "        _, predicted = torch.max(outputs.data, 1) # Get the index of the max log-probability\n",
        "\n",
        "        # Update total and correct counts\n",
        "        total += labels.size(0)\n",
        "        correct += (predicted == labels).sum().item()\n",
        "\n",
        "\n",
        "        # Store the image (move to CPU for plotting), prediction, and true label\n",
        "        img_cpu = images[i]\n",
        "        pred_label = predicted[i].item()\n",
        "        true_label = labels[i].item()\n",
        "        is_correct = (pred_label == true_label)\n",
        "\n",
        "        example_images.append({\n",
        "                    \"image\": img_cpu,\n",
        "                    \"prediction\": pred_label,\n",
        "                    \"truth\": true_label,\n",
        "                    \"correct\": is_correct\n",
        "                })\n",
        "\n",
        "\n",
        "# --- Calculate and Print Accuracy ---\n",
        "accuracy = correct / total if total > 0 else 0 # Avoid division by zero\n",
        "print(f'Accuracy of the model on the {total} test images: {100 * accuracy:.2f}%')\n",
        "print(\"-\" * 30)\n",
        "\n",
        "# --- Show Examples ---\n",
        "print(f\"Showing {max_examples_to_show} random examples:\")\n",
        "#random shuffle examples\n",
        "random.shuffle(example_images)\n",
        "#show first 10 examples\n",
        "for o in range(0,10):\n",
        "    example = example_images[o]\n",
        "    print(f\"Example {o+1}:\")\n",
        "    print(f\"  Prediction: {example['prediction']}, Ground Truth: {example['truth']}\")\n",
        "    if not example['correct']:\n",
        "        print(\"  Result: Incorrect!\")\n",
        "        # Display the image for incorrect predictions\n",
        "        plt.imshow(example['image'].squeeze(), cmap='gray') # Use squeeze() if it's grayscale (Cx1xHxW or 1xHxW) -> HxW\n",
        "        plt.title(f\"Pred: {example['prediction']}, True: {example['truth']}\")\n",
        "        plt.axis('off') # Hide axes\n",
        "        plt.show()"
      ],
      "metadata": {
        "id": "DwYz-dJ4r3Ju",
        "outputId": "e08d6574-8e82-4427-d6eb-c3656a13ad4b",
        "colab": {
          "base_uri": "https://localhost:8080/",
          "height": 1000
        }
      },
      "id": "DwYz-dJ4r3Ju",
      "execution_count": null,
      "outputs": [
        {
          "output_type": "stream",
          "name": "stdout",
          "text": [
            "Accuracy of the model on the 10000 test images: 92.27%\n",
            "------------------------------\n",
            "Showing 10 random examples:\n",
            "Example 1:\n",
            "  Prediction: 3, Ground Truth: 3\n",
            "Example 2:\n",
            "  Prediction: 0, Ground Truth: 0\n",
            "Example 3:\n",
            "  Prediction: 2, Ground Truth: 2\n",
            "Example 4:\n",
            "  Prediction: 1, Ground Truth: 1\n",
            "Example 5:\n",
            "  Prediction: 9, Ground Truth: 3\n",
            "  Result: Incorrect!\n"
          ]
        },
        {
          "output_type": "display_data",
          "data": {
            "text/plain": [
              "<Figure size 640x480 with 1 Axes>"
            ],
            "image/png": "[encoded data removed]"
          },
          "metadata": {}
        },
        {
          "output_type": "stream",
          "name": "stdout",
          "text": [
            "Example 6:\n",
            "  Prediction: 4, Ground Truth: 4\n",
            "Example 7:\n",
            "  Prediction: 4, Ground Truth: 9\n",
            "  Result: Incorrect!\n"
          ]
        },
        {
          "output_type": "display_data",
          "data": {
            "text/plain": [
              "<Figure size 640x480 with 1 Axes>"
            ],
            "image/png": "[encoded data removed]"
          },
          "metadata": {}
        },
        {
          "output_type": "stream",
          "name": "stdout",
          "text": [
            "Example 8:\n",
            "  Prediction: 9, Ground Truth: 9\n",
            "Example 9:\n",
            "  Prediction: 5, Ground Truth: 9\n",
            "  Result: Incorrect!\n"
          ]
        },
        {
          "output_type": "display_data",
          "data": {
            "text/plain": [
              "<Figure size 640x480 with 1 Axes>"
            ],
            "image/png": "[encoded data removed]"
          },
          "metadata": {}
        },
        {
          "output_type": "stream",
          "name": "stdout",
          "text": [
            "Example 10:\n",
            "  Prediction: 2, Ground Truth: 2\n"
          ]
        }
      ]
    },
    {
      "cell_type": "markdown",
      "id": "stainless-investing",
      "metadata": {
        "id": "stainless-investing"
      },
      "source": [
        "Having trained the network, we can now test it on unseen data (the test set)."
      ]
    },
    {
      "cell_type": "markdown",
      "id": "arranged-ethernet",
      "metadata": {
        "id": "arranged-ethernet"
      },
      "source": [
        "That's a pretty high accuracy, reflecting that the MNIST dataset is relatively simple and well-behaved. Indeed, you can do much better. CNNs can reach an accuracy of more than 99 per cent (see [Kaggle](https://www.kaggle.com/code/cdeotte/how-to-choose-cnn-architecture-mnist)). To achieve such a high accuracy, we need to improve the architecture. We will do so in notebook 2.1."
      ]
    },
    {
      "cell_type": "markdown",
      "id": "isolated-invite",
      "metadata": {
        "id": "isolated-invite"
      },
      "source": [
        "## Exercises"
      ]
    },
    {
      "cell_type": "markdown",
      "id": "minor-training",
      "metadata": {
        "id": "minor-training"
      },
      "source": [
        "**Exercise 1**: Here, we use the adam optimiser. Find out what other optimisers are available.\n",
        "\n",
        "**Exercise 2**: What do the hyperparameters (e.g. lr in adam) mean? Change lr to a higher value (e.g. 1) and rerun the notebook. Or to a lower value. What happens? Why?\n",
        "\n",
        "**Exercise 3**: Here, we use the cross entropy as the loss function. What is a loss function? And what is the cross entropy?\n",
        "\n",
        "**Exercise 4**: Change the architecture of the neural network. Add more layers, increase the number of neurons, or try a different activation function."
      ]
    },
    {
      "cell_type": "code",
      "execution_count": null,
      "id": "royal-franchise",
      "metadata": {
        "id": "royal-franchise"
      },
      "outputs": [],
      "source": []
    }
  ],
  "metadata": {
    "kernelspec": {
      "display_name": "Python 3",
      "name": "python3"
    },
    "language_info": {
      "codemirror_mode": {
        "name": "ipython",
        "version": 3
      },
      "file_extension": ".py",
      "mimetype": "text/x-python",
      "name": "python",
      "nbconvert_exporter": "python",
      "pygments_lexer": "ipython3",
      "version": "3.6.9"
    },
    "colab": {
      "provenance": []
    }
  },
  "nbformat": 4,
  "nbformat_minor": 5
}