{
  "cells": [
    {
      "cell_type": "markdown",
      "id": "acceptable-access",
      "metadata": {
        "id": "acceptable-access"
      },
      "source": [
        "# 1.2 PyTorch for Computer Vision"
      ]
    },
    {
      "cell_type": "markdown",
      "id": "funny-landing",
      "metadata": {
        "id": "funny-landing"
      },
      "source": [
        "In this note, we will address some of the basic commands that you will need from PyTorch in general and in computer vision in particular.\n",
        "\n",
        "<!---\n",
        "- [Basic PyTorch commands](#Basic-PyTorch-commands)\n",
        "- [Computer vision data sets](#Computer-vision-data-sets)\n",
        "- [Transforms](#Transforms)\n",
        "- [Exercises](#Exercises)\n",
        "-->\n",
        "\n",
        "First, we import the required libraries. These should all be available on Google Colab."
      ]
    },
    {
      "cell_type": "code",
      "execution_count": null,
      "id": "pleased-naples",
      "metadata": {
        "id": "pleased-naples"
      },
      "outputs": [],
      "source": [
        "import torch # PyTorch\n",
        "import torchvision # Computer vision\n",
        "# Data sets and transforms\n",
        "from torchvision import datasets\n",
        "import torchvision.transforms as transforms\n",
        "from torch.utils.data import DataLoader\n",
        "# Other libraries\n",
        "import matplotlib.pyplot as plt\n",
        "import numpy as np"
      ]
    },
    {
      "cell_type": "markdown",
      "id": "nominated-authority",
      "metadata": {
        "id": "nominated-authority"
      },
      "source": [
        "You can, e.g., check your PyTorch"
      ]
    },
    {
      "cell_type": "code",
      "execution_count": null,
      "id": "configured-slope",
      "metadata": {
        "id": "configured-slope",
        "outputId": "fa92683a-5117-49b9-b732-63b6b971462f",
        "colab": {
          "base_uri": "https://localhost:8080/",
          "height": 36
        }
      },
      "outputs": [
        {
          "output_type": "execute_result",
          "data": {
            "text/plain": [
              "'2.6.0+cu124'"
            ],
            "application/vnd.google.colaboratory.intrinsic+json": {
              "type": "string"
            }
          },
          "metadata": {},
          "execution_count": 11
        }
      ],
      "source": [
        "torch.__version__"
      ]
    },
    {
      "cell_type": "markdown",
      "id": "crucial-trinity",
      "metadata": {
        "id": "crucial-trinity"
      },
      "source": [
        "## Basic PyTorch commands"
      ]
    },
    {
      "cell_type": "markdown",
      "id": "looking-covering",
      "metadata": {
        "id": "looking-covering"
      },
      "source": [
        "PyTorch has its own objects: PyTorch tensors. All data will have to be put in this format."
      ]
    },
    {
      "cell_type": "code",
      "execution_count": null,
      "id": "desirable-equipment",
      "metadata": {
        "id": "desirable-equipment"
      },
      "outputs": [],
      "source": [
        "scalar = torch.tensor(1)\n",
        "vector = torch.tensor([1, 2])"
      ]
    },
    {
      "cell_type": "markdown",
      "id": "regional-injury",
      "metadata": {
        "id": "regional-injury"
      },
      "source": [
        "If you already have a tensor object, you can print different properties."
      ]
    },
    {
      "cell_type": "code",
      "execution_count": null,
      "id": "usual-tumor",
      "metadata": {
        "id": "usual-tumor",
        "outputId": "d8822f02-50df-4fed-87ff-cbd0cee0f52f",
        "colab": {
          "base_uri": "https://localhost:8080/"
        }
      },
      "outputs": [
        {
          "output_type": "stream",
          "name": "stdout",
          "text": [
            "1 torch.Size([2]) torch.int64\n"
          ]
        }
      ],
      "source": [
        "print(vector.ndim, vector.shape,vector.dtype)"
      ]
    },
    {
      "cell_type": "markdown",
      "id": "theoretical-simon",
      "metadata": {
        "id": "theoretical-simon"
      },
      "source": [
        "Many of the commands (such as the method creating vectors with ones in each entry) mirror the corresponding commands in numpy."
      ]
    },
    {
      "cell_type": "code",
      "execution_count": null,
      "id": "fitted-monthly",
      "metadata": {
        "id": "fitted-monthly",
        "outputId": "a2730431-61ce-40a2-f915-4aeb78c7d7ab",
        "colab": {
          "base_uri": "https://localhost:8080/"
        }
      },
      "outputs": [
        {
          "output_type": "stream",
          "name": "stdout",
          "text": [
            "tensor([[0.],\n",
            "        [0.],\n",
            "        [0.]])\n",
            "tensor([[1.],\n",
            "        [1.],\n",
            "        [1.]])\n"
          ]
        }
      ],
      "source": [
        "t0 = torch.zeros(size=(3,1))\n",
        "print(t0)\n",
        "t1 = torch.ones(size=(3,1))\n",
        "print(t1)"
      ]
    },
    {
      "cell_type": "markdown",
      "id": "final-chick",
      "metadata": {
        "id": "final-chick"
      },
      "source": [
        "Just like in numpy you can, for instance, easily perform element-wise multiplication, multiply a tensor with a scalar or determine the index of the entry with the maximum or minimum value. But not everything is the same."
      ]
    },
    {
      "cell_type": "code",
      "execution_count": null,
      "id": "regulated-climate",
      "metadata": {
        "id": "regulated-climate",
        "outputId": "ed25e261-0082-4281-9fcc-d7c75c0cb1c0",
        "colab": {
          "base_uri": "https://localhost:8080/"
        }
      },
      "outputs": [
        {
          "output_type": "stream",
          "name": "stdout",
          "text": [
            "tensor([10, 20])\n",
            "tensor([1, 4])\n",
            "tensor(1)\n",
            "tensor(0)\n"
          ]
        }
      ],
      "source": [
        "print(10*vector)\n",
        "print(vector*vector)\n",
        "print(vector.argmax())\n",
        "print(vector.argmin())"
      ]
    },
    {
      "cell_type": "markdown",
      "id": "dominant-artwork",
      "metadata": {
        "id": "dominant-artwork"
      },
      "source": [
        "When creating so-called batches of data in later notebooks, we will sometimes need to be able to add a dimension to a tensor. We thus keep the content of the data but add an empty dimension along the dimension dim."
      ]
    },
    {
      "cell_type": "code",
      "execution_count": null,
      "id": "weighted-assignment",
      "metadata": {
        "id": "weighted-assignment",
        "outputId": "4baa286e-35b5-4852-9a6b-66065e4d7b30",
        "colab": {
          "base_uri": "https://localhost:8080/"
        }
      },
      "outputs": [
        {
          "output_type": "execute_result",
          "data": {
            "text/plain": [
              "tensor([[1, 2]])"
            ]
          },
          "metadata": {},
          "execution_count": 16
        }
      ],
      "source": [
        "torch.unsqueeze(vector,dim=0)"
      ]
    },
    {
      "cell_type": "markdown",
      "id": "sought-retention",
      "metadata": {
        "id": "sought-retention"
      },
      "source": [
        "You can also turn PyTorch tensors into numpy objects"
      ]
    },
    {
      "cell_type": "code",
      "execution_count": null,
      "id": "missing-federation",
      "metadata": {
        "id": "missing-federation",
        "outputId": "15f6407d-3812-47c7-c5bf-5b29ea64eb6e",
        "colab": {
          "base_uri": "https://localhost:8080/"
        }
      },
      "outputs": [
        {
          "output_type": "execute_result",
          "data": {
            "text/plain": [
              "array([1, 2])"
            ]
          },
          "metadata": {},
          "execution_count": 17
        }
      ],
      "source": [
        "vector.numpy()"
      ]
    },
    {
      "cell_type": "markdown",
      "id": "sunrise-punishment",
      "metadata": {
        "id": "sunrise-punishment"
      },
      "source": [
        "Or numpy objects into tensors."
      ]
    },
    {
      "cell_type": "code",
      "execution_count": null,
      "id": "patient-problem",
      "metadata": {
        "id": "patient-problem",
        "outputId": "0836ba5f-519b-46f4-8d09-dd5810df5ff4",
        "colab": {
          "base_uri": "https://localhost:8080/"
        }
      },
      "outputs": [
        {
          "output_type": "execute_result",
          "data": {
            "text/plain": [
              "tensor([1, 2])"
            ]
          },
          "metadata": {},
          "execution_count": 18
        }
      ],
      "source": [
        "array = np.arange(1,3)\n",
        "torch.from_numpy(array)"
      ]
    },
    {
      "cell_type": "markdown",
      "id": "intellectual-christianity",
      "metadata": {
        "id": "intellectual-christianity"
      },
      "source": [
        "For more basic PyTorch commands, see the exercises below."
      ]
    },
    {
      "cell_type": "markdown",
      "id": "ceramic-tenant",
      "metadata": {
        "id": "ceramic-tenant"
      },
      "source": [
        "## Computer vision data sets"
      ]
    },
    {
      "cell_type": "markdown",
      "id": "tough-heritage",
      "metadata": {
        "id": "tough-heritage"
      },
      "source": [
        "In this course, we will dive into Deep Learning for computer vision, i.e., we will be working with image data. Torchvision provides a long list of datasets that are commonly used for this purpose."
      ]
    },
    {
      "cell_type": "code",
      "execution_count": null,
      "id": "improving-australian",
      "metadata": {
        "id": "improving-australian",
        "outputId": "d003682e-5060-4c34-e96c-4a18f76fc434",
        "colab": {
          "base_uri": "https://localhost:8080/"
        }
      },
      "outputs": [
        {
          "output_type": "stream",
          "name": "stdout",
          "text": [
            "('LSUN', 'LSUNClass', 'ImageFolder', 'DatasetFolder', 'FakeData', 'CocoCaptions', 'CocoDetection', 'CIFAR10', 'CIFAR100', 'EMNIST', 'FashionMNIST', 'QMNIST', 'MNIST', 'KMNIST', 'MovingMNIST', 'StanfordCars', 'STL10', 'SUN397', 'SVHN', 'PhotoTour', 'SEMEION', 'Omniglot', 'SBU', 'Flickr8k', 'Flickr30k', 'Flowers102', 'VOCSegmentation', 'VOCDetection', 'Cityscapes', 'ImageNet', 'Caltech101', 'Caltech256', 'CelebA', 'WIDERFace', 'SBDataset', 'VisionDataset', 'USPS', 'Kinetics', 'HMDB51', 'UCF101', 'Places365', 'Kitti', 'INaturalist', 'LFWPeople', 'LFWPairs', 'KittiFlow', 'Sintel', 'FlyingChairs', 'FlyingThings3D', 'HD1K', 'Food101', 'DTD', 'FER2013', 'GTSRB', 'CLEVRClassification', 'OxfordIIITPet', 'PCAM', 'Country211', 'FGVCAircraft', 'EuroSAT', 'RenderedSST2', 'Kitti2012Stereo', 'Kitti2015Stereo', 'CarlaStereo', 'Middlebury2014Stereo', 'CREStereo', 'FallingThingsStereo', 'SceneFlowStereo', 'SintelStereo', 'InStereo2k', 'ETH3DStereo', 'wrap_dataset_for_transforms_v2', 'Imagenette')\n"
          ]
        }
      ],
      "source": [
        "# Available datasets\n",
        "print(datasets.__all__)"
      ]
    },
    {
      "cell_type": "markdown",
      "id": "southern-world",
      "metadata": {
        "id": "southern-world"
      },
      "source": [
        "To dowload and import the training set from the MNIST data set, we use the command"
      ]
    },
    {
      "cell_type": "code",
      "execution_count": null,
      "id": "lonely-aviation",
      "metadata": {
        "id": "lonely-aviation",
        "outputId": "3b1c2864-8ca5-4159-dfc8-79d8b6481fe6",
        "colab": {
          "base_uri": "https://localhost:8080/"
        }
      },
      "outputs": [
        {
          "output_type": "stream",
          "name": "stderr",
          "text": [
            "100%|██████████| 9.91M/9.91M [00:00<00:00, 18.3MB/s]\n",
            "100%|██████████| 28.9k/28.9k [00:00<00:00, 485kB/s]\n",
            "100%|██████████| 1.65M/1.65M [00:00<00:00, 4.47MB/s]\n",
            "100%|██████████| 4.54k/4.54k [00:00<00:00, 8.32MB/s]\n"
          ]
        }
      ],
      "source": [
        "trainset_mnist_0 = datasets.MNIST(root='./data', train=True, download=True)"
      ]
    },
    {
      "cell_type": "markdown",
      "id": "clinical-skating",
      "metadata": {
        "id": "clinical-skating"
      },
      "source": [
        "Note that not all datasets listed above can be easily downloaded with one line of code.\n",
        "\n",
        "We can plot individual images from this data set using matplotlib. Each image is a PyTorch tensor object."
      ]
    },
    {
      "cell_type": "code",
      "execution_count": null,
      "id": "insured-steps",
      "metadata": {
        "id": "insured-steps",
        "outputId": "c8c91934-d2cb-4515-e299-16312e51c073",
        "colab": {
          "base_uri": "https://localhost:8080/",
          "height": 274
        }
      },
      "outputs": [
        {
          "output_type": "stream",
          "name": "stdout",
          "text": [
            "<class 'torch.Tensor'>\n",
            "<class 'torch.Tensor'>\n",
            "<class 'torch.Tensor'>\n",
            "<class 'torch.Tensor'>\n",
            "<class 'torch.Tensor'>\n"
          ]
        },
        {
          "output_type": "display_data",
          "data": {
            "text/plain": [
              "<Figure size 1500x300 with 5 Axes>"
            ],
            "image/png": "[encoded data removed]"
          },
          "metadata": {}
        }
      ],
      "source": [
        "fig, axes = plt.subplots(1, 5, figsize=(15, 3))\n",
        "for i in range(5):\n",
        "    img = trainset_mnist_0.data[i]\n",
        "    print(type(img))\n",
        "    axes[i].imshow(img, cmap='gray')\n",
        "    axes[i].axis('off')"
      ]
    },
    {
      "cell_type": "markdown",
      "id": "qualified-roman",
      "metadata": {
        "id": "qualified-roman"
      },
      "source": [
        "Let's try a different dataset."
      ]
    },
    {
      "cell_type": "code",
      "execution_count": null,
      "id": "representative-spice",
      "metadata": {
        "id": "representative-spice",
        "outputId": "6a76c488-c9de-4b36-9fd2-2d0c69bcd557",
        "colab": {
          "base_uri": "https://localhost:8080/"
        }
      },
      "outputs": [
        {
          "output_type": "stream",
          "name": "stderr",
          "text": [
            "100%|██████████| 170M/170M [00:03<00:00, 47.2MB/s]\n"
          ]
        }
      ],
      "source": [
        "trainset_cifar10_0 = datasets.CIFAR10(root='./data', train=True, download=True)"
      ]
    },
    {
      "cell_type": "code",
      "execution_count": null,
      "id": "arabic-government",
      "metadata": {
        "id": "arabic-government",
        "outputId": "70686bf0-ce7e-4df4-8df2-15c235ef0a92",
        "colab": {
          "base_uri": "https://localhost:8080/",
          "height": 185
        }
      },
      "outputs": [
        {
          "output_type": "display_data",
          "data": {
            "text/plain": [
              "<Figure size 1500x300 with 5 Axes>"
            ],
            "image/png": "[encoded data removed]"
          },
          "metadata": {}
        }
      ],
      "source": [
        "fig, axes = plt.subplots(1, 5, figsize=(15, 3))\n",
        "for i in range(5):\n",
        "    img = trainset_cifar10_0.data[i]\n",
        "    axes[i].imshow(img)\n",
        "    axes[i].axis('off')"
      ]
    },
    {
      "cell_type": "markdown",
      "id": "paperback-connecticut",
      "metadata": {
        "id": "paperback-connecticut"
      },
      "source": [
        "## Transforms"
      ]
    },
    {
      "cell_type": "markdown",
      "id": "harmful-pharmacology",
      "metadata": {
        "id": "harmful-pharmacology"
      },
      "source": [
        "Before we can pass the data to our Deep Learning model, we will often have to transform it to ensure that it has the correct format. Maybe the images are too small or too large compared to the images on which we have trained our model. It is also common practice to normalise the images before passing them to the Deep Learning model, as this approach is beneficial for convergence, stability during training and the generalisation of the network.\n",
        "\n",
        "Let's define a transform for normalisation."
      ]
    },
    {
      "cell_type": "code",
      "execution_count": null,
      "id": "extraordinary-negative",
      "metadata": {
        "id": "extraordinary-negative"
      },
      "outputs": [],
      "source": [
        "# MNIST is black and white. So, we only need one color channel. Other data sets have three\n",
        "means = (0.5)\n",
        "stds = (0.5)\n",
        "\n",
        "# Define the data transform including normalization\n",
        "transform_mnist_0 = transforms.Compose([\n",
        "    transforms.ToTensor(),  # convert to PyTorch tensor\n",
        "    transforms.Normalize(mean=means, std=stds)  # normalize images\n",
        "])\n",
        "\n",
        "# In contrast, CIFAR10 provides pictures with three channels (RGB).\n",
        "\n",
        "means10 = (0.5,0.5,0.5)\n",
        "stds10 = (0.5,0.5,0.5)\n",
        "\n",
        "# Define the data transform including normalization\n",
        "transform_cifar10_0 = transforms.Compose([\n",
        "    transforms.ToTensor(),  # Converts the image to a PyTorch tensor\n",
        "    transforms.Normalize(means10, stds10),  # Normalize to a range of -1 to 1 for three channels\n",
        "])"
      ]
    },
    {
      "cell_type": "markdown",
      "id": "centered-cliff",
      "metadata": {
        "id": "centered-cliff"
      },
      "source": [
        "If we had defined the transform before we loaded the data, we could have applied the transform to the data right away. However, we can still do so retrospectively."
      ]
    },
    {
      "cell_type": "code",
      "execution_count": null,
      "id": "reliable-fashion",
      "metadata": {
        "id": "reliable-fashion"
      },
      "outputs": [],
      "source": [
        "# Apply the transform to the dataset\n",
        "trainset_cifar10_0.transform = transform_cifar10_0"
      ]
    },
    {
      "cell_type": "markdown",
      "id": "thorough-nitrogen",
      "metadata": {
        "id": "thorough-nitrogen"
      },
      "source": [
        "We can divide the entire dataset into smaller batches, shuffle it and provide an iterable interface for retrieving batches during the training process using the DataLoader class."
      ]
    },
    {
      "cell_type": "code",
      "execution_count": null,
      "id": "variable-scoop",
      "metadata": {
        "id": "variable-scoop"
      },
      "outputs": [],
      "source": [
        "train_loader_cifar10 = DataLoader(trainset_cifar10_0, batch_size=32, shuffle=True)"
      ]
    },
    {
      "cell_type": "markdown",
      "id": "enclosed-interview",
      "metadata": {
        "id": "enclosed-interview"
      },
      "source": [
        "If you plot the image, you can now see that the colours are a bit off because we normalised the image."
      ]
    },
    {
      "cell_type": "code",
      "execution_count": null,
      "id": "common-drawing",
      "metadata": {
        "id": "common-drawing",
        "outputId": "27df3738-be53-4e6f-842c-431952661c34",
        "colab": {
          "base_uri": "https://localhost:8080/",
          "height": 294
        }
      },
      "outputs": [
        {
          "output_type": "stream",
          "name": "stderr",
          "text": [
            "WARNING:matplotlib.image:Clipping input data to the valid range for imshow with RGB data ([0..1] for floats or [0..255] for integers). Got range [-0.9529412..0.9607843].\n",
            "WARNING:matplotlib.image:Clipping input data to the valid range for imshow with RGB data ([0..1] for floats or [0..255] for integers). Got range [-0.92941177..0.79607844].\n",
            "WARNING:matplotlib.image:Clipping input data to the valid range for imshow with RGB data ([0..1] for floats or [0..255] for integers). Got range [-0.8745098..0.85882354].\n",
            "WARNING:matplotlib.image:Clipping input data to the valid range for imshow with RGB data ([0..1] for floats or [0..255] for integers). Got range [-0.9607843..0.9843137].\n",
            "WARNING:matplotlib.image:Clipping input data to the valid range for imshow with RGB data ([0..1] for floats or [0..255] for integers). Got range [-1.0..0.9764706].\n"
          ]
        },
        {
          "output_type": "display_data",
          "data": {
            "text/plain": [
              "<Figure size 1500x300 with 5 Axes>"
            ],
            "image/png": "[encoded data removed]"
          },
          "metadata": {}
        }
      ],
      "source": [
        "# Get the first batch from the data loader\n",
        "dataiter = iter(train_loader_cifar10)\n",
        "images, labels = next(dataiter)\n",
        "\n",
        "fig, axes = plt.subplots(1, 5, figsize=(15, 3))\n",
        "for i in range(5):\n",
        "    img = images[i].permute(1, 2, 0)\n",
        "    axes[i].imshow(img)\n",
        "    axes[i].axis('off')"
      ]
    },
    {
      "cell_type": "markdown",
      "id": "waiting-portugal",
      "metadata": {
        "id": "waiting-portugal"
      },
      "source": [
        "We can also use transforms for image augmentation, i.e., we scale, translate or rotate the images to create new images. By doing so, we reduce overfitting and introduce scale and orientation invariance."
      ]
    },
    {
      "cell_type": "code",
      "execution_count": null,
      "id": "greek-reading",
      "metadata": {
        "id": "greek-reading"
      },
      "outputs": [],
      "source": [
        "transform_mnist_1 = transforms.Compose([\n",
        "    transforms.RandomHorizontalFlip(), # Randomflip\n",
        "    transforms.RandomRotation(degrees=(-90, 90)),  # Random rotation between -90 and 90 degrees\n",
        "    transforms.ToTensor(),  # convert to PyTorch tensor\n",
        "    transforms.Normalize(mean=means, std=stds)  # normalize images\n",
        "])\n",
        "\n",
        "# Apply the transform to the dataset\n",
        "trainset_mnist_0.transform = transform_mnist_1\n",
        "train_loader_mnist = DataLoader(trainset_mnist_0, batch_size=32, shuffle=True)"
      ]
    },
    {
      "cell_type": "code",
      "execution_count": null,
      "id": "therapeutic-istanbul",
      "metadata": {
        "id": "therapeutic-istanbul",
        "outputId": "00ac4d38-8622-49c1-cc31-e1e90f706797",
        "colab": {
          "base_uri": "https://localhost:8080/",
          "height": 201
        }
      },
      "outputs": [
        {
          "output_type": "display_data",
          "data": {
            "text/plain": [
              "<Figure size 1500x300 with 5 Axes>"
            ],
            "image/png": "[encoded data removed]"
          },
          "metadata": {}
        }
      ],
      "source": [
        "# Get the first batch from the data loader\n",
        "dataiter = iter(train_loader_mnist)\n",
        "images, labels = next(dataiter)\n",
        "\n",
        "fig, axes = plt.subplots(1, 5, figsize=(15, 3))\n",
        "for i in range(5):\n",
        "    img = images[i].permute(1, 2, 0)\n",
        "    axes[i].imshow(img, cmap=\"gray\")\n",
        "    axes[i].axis('off')\n",
        "    axes[i].set_title(labels[i].item())\n"
      ]
    },
    {
      "cell_type": "markdown",
      "source": [
        "Exercise 1: Once you have created a model (be it a linear model or a deep neural network), you can save it to file. Later you can load it again. How do you do that in PyTorch?"
      ],
      "metadata": {
        "id": "YKgBUZdJ70bX"
      },
      "id": "YKgBUZdJ70bX"
    },
    {
      "cell_type": "code",
      "source": [],
      "metadata": {
        "id": "XdTSWkkn72DB"
      },
      "id": "XdTSWkkn72DB",
      "execution_count": null,
      "outputs": []
    }
  ],
  "metadata": {
    "kernelspec": {
      "display_name": "Python 3",
      "name": "python3"
    },
    "language_info": {
      "codemirror_mode": {
        "name": "ipython",
        "version": 3
      },
      "file_extension": ".py",
      "mimetype": "text/x-python",
      "name": "python",
      "nbconvert_exporter": "python",
      "pygments_lexer": "ipython3",
      "version": "3.6.9"
    },
    "colab": {
      "provenance": [],
      "gpuType": "T4"
    },
    "accelerator": "GPU"
  },
  "nbformat": 4,
  "nbformat_minor": 5
}